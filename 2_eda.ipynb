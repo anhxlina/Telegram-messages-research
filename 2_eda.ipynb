{
 "cells": [
  {
   "cell_type": "markdown",
   "id": "b51c0942",
   "metadata": {},
   "source": [
    "## Homework #5. Exploratory Data Analysis\n",
    "#### Author: `ANHELINA BABII`\n",
    "##### I marked the questions I will use for my final project with +. Some of them will be combined because they are connected."
   ]
  },
  {
   "cell_type": "code",
   "execution_count": 1,
   "id": "fde6029e",
   "metadata": {},
   "outputs": [],
   "source": [
    "import pandas as pd\n",
    "import time\n",
    "import datetime\n",
    "import regex\n",
    "import io\n",
    "import seaborn as sns\n",
    "import matplotlib.pyplot as plt\n",
    "import datetime\n",
    "import string\n",
    "import plotly.express as px\n",
    "from collections import Counter\n",
    "from collections import namedtuple"
   ]
  },
  {
   "cell_type": "code",
   "execution_count": 2,
   "id": "d60f3744",
   "metadata": {
    "scrolled": true
   },
   "outputs": [
    {
     "name": "stderr",
     "output_type": "stream",
     "text": [
      "C:\\Users\\westc\\anaconda3\\lib\\site-packages\\IPython\\core\\interactiveshell.py:3444: DtypeWarning: Columns (3) have mixed types.Specify dtype option on import or set low_memory=False.\n",
      "  exec(code_obj, self.user_global_ns, self.user_ns)\n"
     ]
    }
   ],
   "source": [
    "df = pd.read_csv(r'C:\\Users\\westc\\Desktop\\uni2\\css\\hw4\\data\\merged_data\\dialogs_data_all.csv')"
   ]
  },
  {
   "cell_type": "markdown",
   "id": "ad2f21f7",
   "metadata": {},
   "source": [
    "### 0. I was checking if it works"
   ]
  },
  {
   "cell_type": "code",
   "execution_count": 4,
   "id": "16d3d270",
   "metadata": {
    "scrolled": true
   },
   "outputs": [
    {
     "data": {
      "text/html": [
       "<div>\n",
       "<style scoped>\n",
       "    .dataframe tbody tr th:only-of-type {\n",
       "        vertical-align: middle;\n",
       "    }\n",
       "\n",
       "    .dataframe tbody tr th {\n",
       "        vertical-align: top;\n",
       "    }\n",
       "\n",
       "    .dataframe thead th {\n",
       "        text-align: right;\n",
       "    }\n",
       "</style>\n",
       "<table border=\"1\" class=\"dataframe\">\n",
       "  <thead>\n",
       "    <tr style=\"text-align: right;\">\n",
       "      <th></th>\n",
       "      <th>id</th>\n",
       "      <th>date</th>\n",
       "      <th>from_id</th>\n",
       "      <th>to_id</th>\n",
       "      <th>fwd_from</th>\n",
       "      <th>message</th>\n",
       "      <th>type</th>\n",
       "      <th>duration</th>\n",
       "      <th>dialog_id</th>\n",
       "    </tr>\n",
       "  </thead>\n",
       "  <tbody>\n",
       "    <tr>\n",
       "      <th>0</th>\n",
       "      <td>896</td>\n",
       "      <td>2022-02-22 13:10:49+00:00</td>\n",
       "      <td>NaN</td>\n",
       "      <td>PeerChannel(channel_id=1121077046)</td>\n",
       "      <td>NaN</td>\n",
       "      <td>NaN</td>\n",
       "      <td>text</td>\n",
       "      <td>NaN</td>\n",
       "      <td>-1001121077046</td>\n",
       "    </tr>\n",
       "    <tr>\n",
       "      <th>1</th>\n",
       "      <td>895</td>\n",
       "      <td>2022-02-22 13:10:41+00:00</td>\n",
       "      <td>NaN</td>\n",
       "      <td>PeerChannel(channel_id=1121077046)</td>\n",
       "      <td>NaN</td>\n",
       "      <td>​​Твоя тривога має місце бути.\\n\\nМи справді н...</td>\n",
       "      <td>photo</td>\n",
       "      <td>NaN</td>\n",
       "      <td>-1001121077046</td>\n",
       "    </tr>\n",
       "    <tr>\n",
       "      <th>2</th>\n",
       "      <td>894</td>\n",
       "      <td>2022-02-21 15:50:55+00:00</td>\n",
       "      <td>NaN</td>\n",
       "      <td>PeerChannel(channel_id=1121077046)</td>\n",
       "      <td>NaN</td>\n",
       "      <td>NaN</td>\n",
       "      <td>photo</td>\n",
       "      <td>NaN</td>\n",
       "      <td>-1001121077046</td>\n",
       "    </tr>\n",
       "    <tr>\n",
       "      <th>3</th>\n",
       "      <td>893</td>\n",
       "      <td>2022-02-14 13:10:05+00:00</td>\n",
       "      <td>NaN</td>\n",
       "      <td>PeerChannel(channel_id=1121077046)</td>\n",
       "      <td>NaN</td>\n",
       "      <td>​​​​Можливо, ти сьогодні пішов на пари чи робо...</td>\n",
       "      <td>photo</td>\n",
       "      <td>NaN</td>\n",
       "      <td>-1001121077046</td>\n",
       "    </tr>\n",
       "    <tr>\n",
       "      <th>4</th>\n",
       "      <td>892</td>\n",
       "      <td>2022-02-14 10:30:06+00:00</td>\n",
       "      <td>NaN</td>\n",
       "      <td>PeerChannel(channel_id=1121077046)</td>\n",
       "      <td>NaN</td>\n",
       "      <td>NaN</td>\n",
       "      <td>photo</td>\n",
       "      <td>NaN</td>\n",
       "      <td>-1001121077046</td>\n",
       "    </tr>\n",
       "    <tr>\n",
       "      <th>5</th>\n",
       "      <td>891</td>\n",
       "      <td>2022-02-12 14:00:04+00:00</td>\n",
       "      <td>NaN</td>\n",
       "      <td>PeerChannel(channel_id=1121077046)</td>\n",
       "      <td>NaN</td>\n",
       "      <td>​​Маєш пару на 14-те?\\n\\nЧи ти та сама людинка...</td>\n",
       "      <td>photo</td>\n",
       "      <td>NaN</td>\n",
       "      <td>-1001121077046</td>\n",
       "    </tr>\n",
       "    <tr>\n",
       "      <th>6</th>\n",
       "      <td>890</td>\n",
       "      <td>2022-02-10 10:00:04+00:00</td>\n",
       "      <td>NaN</td>\n",
       "      <td>PeerChannel(channel_id=1121077046)</td>\n",
       "      <td>NaN</td>\n",
       "      <td>​​​​Любов варта всього, пам'ятаєш же?\\n\\nМи ві...</td>\n",
       "      <td>photo</td>\n",
       "      <td>NaN</td>\n",
       "      <td>-1001121077046</td>\n",
       "    </tr>\n",
       "    <tr>\n",
       "      <th>7</th>\n",
       "      <td>889</td>\n",
       "      <td>2022-02-07 12:00:19+00:00</td>\n",
       "      <td>NaN</td>\n",
       "      <td>PeerChannel(channel_id=1121077046)</td>\n",
       "      <td>NaN</td>\n",
       "      <td>NaN</td>\n",
       "      <td>photo</td>\n",
       "      <td>NaN</td>\n",
       "      <td>-1001121077046</td>\n",
       "    </tr>\n",
       "    <tr>\n",
       "      <th>8</th>\n",
       "      <td>888</td>\n",
       "      <td>2022-02-03 10:00:10+00:00</td>\n",
       "      <td>NaN</td>\n",
       "      <td>PeerChannel(channel_id=1121077046)</td>\n",
       "      <td>NaN</td>\n",
       "      <td>​​Могилянка — твоя, моя, наша спільна — повсяк...</td>\n",
       "      <td>photo</td>\n",
       "      <td>NaN</td>\n",
       "      <td>-1001121077046</td>\n",
       "    </tr>\n",
       "    <tr>\n",
       "      <th>9</th>\n",
       "      <td>887</td>\n",
       "      <td>2022-01-31 07:01:01+00:00</td>\n",
       "      <td>NaN</td>\n",
       "      <td>PeerChannel(channel_id=1121077046)</td>\n",
       "      <td>NaN</td>\n",
       "      <td>NaN</td>\n",
       "      <td>photo</td>\n",
       "      <td>NaN</td>\n",
       "      <td>-1001121077046</td>\n",
       "    </tr>\n",
       "  </tbody>\n",
       "</table>\n",
       "</div>"
      ],
      "text/plain": [
       "    id                       date from_id                               to_id  \\\n",
       "0  896  2022-02-22 13:10:49+00:00     NaN  PeerChannel(channel_id=1121077046)   \n",
       "1  895  2022-02-22 13:10:41+00:00     NaN  PeerChannel(channel_id=1121077046)   \n",
       "2  894  2022-02-21 15:50:55+00:00     NaN  PeerChannel(channel_id=1121077046)   \n",
       "3  893  2022-02-14 13:10:05+00:00     NaN  PeerChannel(channel_id=1121077046)   \n",
       "4  892  2022-02-14 10:30:06+00:00     NaN  PeerChannel(channel_id=1121077046)   \n",
       "5  891  2022-02-12 14:00:04+00:00     NaN  PeerChannel(channel_id=1121077046)   \n",
       "6  890  2022-02-10 10:00:04+00:00     NaN  PeerChannel(channel_id=1121077046)   \n",
       "7  889  2022-02-07 12:00:19+00:00     NaN  PeerChannel(channel_id=1121077046)   \n",
       "8  888  2022-02-03 10:00:10+00:00     NaN  PeerChannel(channel_id=1121077046)   \n",
       "9  887  2022-01-31 07:01:01+00:00     NaN  PeerChannel(channel_id=1121077046)   \n",
       "\n",
       "  fwd_from                                            message   type  \\\n",
       "0      NaN                                                NaN   text   \n",
       "1      NaN  ​​Твоя тривога має місце бути.\\n\\nМи справді н...  photo   \n",
       "2      NaN                                                NaN  photo   \n",
       "3      NaN  ​​​​Можливо, ти сьогодні пішов на пари чи робо...  photo   \n",
       "4      NaN                                                NaN  photo   \n",
       "5      NaN  ​​Маєш пару на 14-те?\\n\\nЧи ти та сама людинка...  photo   \n",
       "6      NaN  ​​​​Любов варта всього, пам'ятаєш же?\\n\\nМи ві...  photo   \n",
       "7      NaN                                                NaN  photo   \n",
       "8      NaN  ​​Могилянка — твоя, моя, наша спільна — повсяк...  photo   \n",
       "9      NaN                                                NaN  photo   \n",
       "\n",
       "   duration      dialog_id  \n",
       "0       NaN -1001121077046  \n",
       "1       NaN -1001121077046  \n",
       "2       NaN -1001121077046  \n",
       "3       NaN -1001121077046  \n",
       "4       NaN -1001121077046  \n",
       "5       NaN -1001121077046  \n",
       "6       NaN -1001121077046  \n",
       "7       NaN -1001121077046  \n",
       "8       NaN -1001121077046  \n",
       "9       NaN -1001121077046  "
      ]
     },
     "execution_count": 4,
     "metadata": {},
     "output_type": "execute_result"
    }
   ],
   "source": [
    "df.head(10)"
   ]
  },
  {
   "cell_type": "code",
   "execution_count": 5,
   "id": "3038e50e",
   "metadata": {},
   "outputs": [
    {
     "data": {
      "text/plain": [
       "Index(['id', 'date', 'from_id', 'to_id', 'fwd_from', 'message', 'type',\n",
       "       'duration', 'dialog_id'],\n",
       "      dtype='object')"
      ]
     },
     "execution_count": 5,
     "metadata": {},
     "output_type": "execute_result"
    }
   ],
   "source": [
    "df.keys()"
   ]
  },
  {
   "cell_type": "code",
   "execution_count": 6,
   "id": "62ab85c7",
   "metadata": {},
   "outputs": [
    {
     "data": {
      "text/plain": [
       "PeerUser(user_id=319498185)           440311\n",
       "PeerUser(user_id=545692949)            40542\n",
       "PeerUser(user_id=658352983)            17129\n",
       "PeerUser(user_id=633201121)            16218\n",
       "PeerUser(user_id=682652074)            14929\n",
       "PeerUser(user_id=510268944)            14292\n",
       "PeerUser(user_id=573090274)            12850\n",
       "PeerUser(user_id=419467462)            11611\n",
       "PeerUser(user_id=387335969)            11307\n",
       "PeerChannel(channel_id=1457226601)     11239\n",
       "Name: from_id, dtype: int64"
      ]
     },
     "execution_count": 6,
     "metadata": {},
     "output_type": "execute_result"
    }
   ],
   "source": [
    "df['from_id'].value_counts().head(10)"
   ]
  },
  {
   "cell_type": "markdown",
   "id": "cc5b80d5",
   "metadata": {},
   "source": [
    "### 1. Top-10 most used words. + (i will improve it)"
   ]
  },
  {
   "cell_type": "code",
   "execution_count": 90,
   "id": "b5da7d6c",
   "metadata": {},
   "outputs": [
    {
     "data": {
      "text/html": [
       "<div>\n",
       "<style scoped>\n",
       "    .dataframe tbody tr th:only-of-type {\n",
       "        vertical-align: middle;\n",
       "    }\n",
       "\n",
       "    .dataframe tbody tr th {\n",
       "        vertical-align: top;\n",
       "    }\n",
       "\n",
       "    .dataframe thead th {\n",
       "        text-align: right;\n",
       "    }\n",
       "</style>\n",
       "<table border=\"1\" class=\"dataframe\">\n",
       "  <thead>\n",
       "    <tr style=\"text-align: right;\">\n",
       "      <th></th>\n",
       "      <th>index</th>\n",
       "      <th>num</th>\n",
       "    </tr>\n",
       "  </thead>\n",
       "  <tbody>\n",
       "    <tr>\n",
       "      <th>1468</th>\n",
       "      <td>я</td>\n",
       "      <td>120129</td>\n",
       "    </tr>\n",
       "    <tr>\n",
       "      <th>3</th>\n",
       "      <td>не</td>\n",
       "      <td>105344</td>\n",
       "    </tr>\n",
       "    <tr>\n",
       "      <th>73</th>\n",
       "      <td>в</td>\n",
       "      <td>83022</td>\n",
       "    </tr>\n",
       "    <tr>\n",
       "      <th>147</th>\n",
       "      <td>а</td>\n",
       "      <td>59760</td>\n",
       "    </tr>\n",
       "    <tr>\n",
       "      <th>16</th>\n",
       "      <td>на</td>\n",
       "      <td>58696</td>\n",
       "    </tr>\n",
       "    <tr>\n",
       "      <th>93</th>\n",
       "      <td>і</td>\n",
       "      <td>43368</td>\n",
       "    </tr>\n",
       "    <tr>\n",
       "      <th>347</th>\n",
       "      <td>ну</td>\n",
       "      <td>40072</td>\n",
       "    </tr>\n",
       "    <tr>\n",
       "      <th>407</th>\n",
       "      <td>так</td>\n",
       "      <td>37455</td>\n",
       "    </tr>\n",
       "    <tr>\n",
       "      <th>8350</th>\n",
       "      <td>и</td>\n",
       "      <td>36901</td>\n",
       "    </tr>\n",
       "    <tr>\n",
       "      <th>203</th>\n",
       "      <td>що</td>\n",
       "      <td>31007</td>\n",
       "    </tr>\n",
       "    <tr>\n",
       "      <th>124</th>\n",
       "      <td>у</td>\n",
       "      <td>30390</td>\n",
       "    </tr>\n",
       "    <tr>\n",
       "      <th>301</th>\n",
       "      <td>це</td>\n",
       "      <td>30205</td>\n",
       "    </tr>\n",
       "  </tbody>\n",
       "</table>\n",
       "</div>"
      ],
      "text/plain": [
       "     index     num\n",
       "1468     я  120129\n",
       "3       не  105344\n",
       "73       в   83022\n",
       "147      а   59760\n",
       "16      на   58696\n",
       "93       і   43368\n",
       "347     ну   40072\n",
       "407    так   37455\n",
       "8350     и   36901\n",
       "203     що   31007\n",
       "124      у   30390\n",
       "301     це   30205"
      ]
     },
     "execution_count": 90,
     "metadata": {},
     "output_type": "execute_result"
    }
   ],
   "source": [
    "text = df[(df[\"type\"]==\"text\")]\n",
    "text_dict = text[[\"message\",\"from_id\"]]\n",
    "x = text_dict.applymap(str)\n",
    "\n",
    "wcounter = Counter(\" \".join(x[\"message\"]).lower().split())\n",
    "words = pd.DataFrame.from_dict(wcounter, orient=\"index\").reset_index()\n",
    "words.columns.values[1] = \"num\"\n",
    "words = words.sort_values(by=\"num\", ascending=False)\n",
    "\n",
    "words.head(12)"
   ]
  },
  {
   "cell_type": "code",
   "execution_count": 74,
   "id": "9b4aa4ff",
   "metadata": {},
   "outputs": [
    {
     "data": {
      "text/html": [
       "<div>\n",
       "<style scoped>\n",
       "    .dataframe tbody tr th:only-of-type {\n",
       "        vertical-align: middle;\n",
       "    }\n",
       "\n",
       "    .dataframe tbody tr th {\n",
       "        vertical-align: top;\n",
       "    }\n",
       "\n",
       "    .dataframe thead th {\n",
       "        text-align: right;\n",
       "    }\n",
       "</style>\n",
       "<table border=\"1\" class=\"dataframe\">\n",
       "  <thead>\n",
       "    <tr style=\"text-align: right;\">\n",
       "      <th></th>\n",
       "      <th>index</th>\n",
       "      <th>num</th>\n",
       "    </tr>\n",
       "  </thead>\n",
       "  <tbody>\n",
       "    <tr>\n",
       "      <th>0</th>\n",
       "      <td>бля</td>\n",
       "      <td>7373.0</td>\n",
       "    </tr>\n",
       "    <tr>\n",
       "      <th>1</th>\n",
       "      <td>ору</td>\n",
       "      <td>6557.0</td>\n",
       "    </tr>\n",
       "    <tr>\n",
       "      <th>2</th>\n",
       "      <td>завтра</td>\n",
       "      <td>6505.0</td>\n",
       "    </tr>\n",
       "    <tr>\n",
       "      <th>3</th>\n",
       "      <td>см</td>\n",
       "      <td>6490.0</td>\n",
       "    </tr>\n",
       "    <tr>\n",
       "      <th>4</th>\n",
       "      <td>треба</td>\n",
       "      <td>6332.0</td>\n",
       "    </tr>\n",
       "    <tr>\n",
       "      <th>5</th>\n",
       "      <td>хочу</td>\n",
       "      <td>6248.0</td>\n",
       "    </tr>\n",
       "    <tr>\n",
       "      <th>6</th>\n",
       "      <td>типу</td>\n",
       "      <td>6128.0</td>\n",
       "    </tr>\n",
       "    <tr>\n",
       "      <th>7</th>\n",
       "      <td>2</td>\n",
       "      <td>5978.0</td>\n",
       "    </tr>\n",
       "    <tr>\n",
       "      <th>8</th>\n",
       "      <td>зараз</td>\n",
       "      <td>5960.0</td>\n",
       "    </tr>\n",
       "    <tr>\n",
       "      <th>9</th>\n",
       "      <td>хз</td>\n",
       "      <td>5907.0</td>\n",
       "    </tr>\n",
       "    <tr>\n",
       "      <th>10</th>\n",
       "      <td>знаю</td>\n",
       "      <td>5201.0</td>\n",
       "    </tr>\n",
       "    <tr>\n",
       "      <th>11</th>\n",
       "      <td>lana</td>\n",
       "      <td>4923.0</td>\n",
       "    </tr>\n",
       "  </tbody>\n",
       "</table>\n",
       "</div>"
      ],
      "text/plain": [
       "     index     num\n",
       "0      бля  7373.0\n",
       "1      ору  6557.0\n",
       "2   завтра  6505.0\n",
       "3       см  6490.0\n",
       "4    треба  6332.0\n",
       "5     хочу  6248.0\n",
       "6     типу  6128.0\n",
       "7        2  5978.0\n",
       "8    зараз  5960.0\n",
       "9       хз  5907.0\n",
       "10    знаю  5201.0\n",
       "11    lana  4923.0"
      ]
     },
     "execution_count": 74,
     "metadata": {},
     "output_type": "execute_result"
    }
   ],
   "source": [
    "freq = ['я', 'не', 'в', 'а', 'на', 'і', 'ну', 'так', 'и', 'що', 'у', 'це', 'i', 'что', 'з', 'все', 'там', 'это', 'то', \n",
    "        'але', 'за', 'to', 'та', 'да', 'просто', 'and', 'як', 'с', 'ти', 'ты', 'мене', 'the', 'по', 'до', 'как', 'you', \n",
    "        'но', 'мені', 'меня', 'a', 'her', 'мне', 'ща', 'вже', 'ми', 'про', 'він', 'вона', 'нас', 'ж', 'тебе', 'ще', 'шо', \n",
    "        '—', '-', 'он', 'бо', 'якщо', 'она', '+', 'буде', 'же', 'о', '=', 'є', 'для', 'that', 'тут', 'she', 'of', 'уже', \n",
    "        'my', 'it', 'если', 'ні', 'nan', 'мы', 'чи', 'будет', 'so', 'in', 'нет', 'вот', '}', 'is', '{', 'for', 'через',\n",
    "        'коли', 'but', 'теж', 'от', 'б', 'було', 'was', 'есть', 'am', 'me', 'дуже']\n",
    "freq = pd.DataFrame(freq, columns = ['index']) \n",
    "new = pd.concat([words,freq], axis=0, ignore_index=True).drop_duplicates(subset=['index'],keep=False, ignore_index=True)\n",
    "n = new.applymap(str)\n",
    "n.head(12)"
   ]
  },
  {
   "cell_type": "code",
   "execution_count": 75,
   "id": "cbb0641f",
   "metadata": {},
   "outputs": [],
   "source": [
    "toptendf = words.head(10)"
   ]
  },
  {
   "cell_type": "code",
   "execution_count": 128,
   "id": "5504c51d",
   "metadata": {
    "scrolled": true
   },
   "outputs": [
    {
     "data": {
      "image/png": "[encoded data removed]",
      "text/plain": [
       "<Figure size 432x432 with 1 Axes>"
      ]
     },
     "metadata": {},
     "output_type": "display_data"
    }
   ],
   "source": [
    "plot = toptendf.plot.pie(y = 'num', labels = toptendf.iloc[:,0], figsize=(6, 6))\n",
    "plt.legend(bbox_to_anchor=(1.02, 1), loc='upper left', borderaxespad=0)\n",
    "plt.gca().axes.get_yaxis().set_visible(False)"
   ]
  },
  {
   "cell_type": "code",
   "execution_count": 77,
   "id": "0612725f",
   "metadata": {},
   "outputs": [],
   "source": [
    "from wordcloud import WordCloud\n",
    "import matplotlib.pyplot as plt"
   ]
  },
  {
   "cell_type": "code",
   "execution_count": 78,
   "id": "1bb88cde",
   "metadata": {},
   "outputs": [
    {
     "name": "stderr",
     "output_type": "stream",
     "text": [
      "C:\\Users\\westc\\AppData\\Local\\Temp/ipykernel_23608/1145255082.py:2: SettingWithCopyWarning: \n",
      "A value is trying to be set on a copy of a slice from a DataFrame.\n",
      "Try using .loc[row_indexer,col_indexer] = value instead\n",
      "\n",
      "See the caveats in the documentation: https://pandas.pydata.org/pandas-docs/stable/user_guide/indexing.html#returning-a-view-versus-a-copy\n",
      "  nn['num'] = nn['num'].astype('double')\n"
     ]
    }
   ],
   "source": [
    "nn = n.head(12)\n",
    "nn['num'] = nn['num'].astype('double')"
   ]
  },
  {
   "cell_type": "code",
   "execution_count": 126,
   "id": "0230f1d2",
   "metadata": {},
   "outputs": [
    {
     "data": {
      "image/png": "[encoded data removed]",
      "text/plain": [
       "<Figure size 432x288 with 1 Axes>"
      ]
     },
     "metadata": {
      "needs_background": "light"
     },
     "output_type": "display_data"
    }
   ],
   "source": [
    "sns.barplot(y=\"num\", x=nn.iloc[:,0], data=nn, hue='index', palette = 'pastel', dodge=False).set_title('My top-12 used words', fontsize=16)\n",
    "plt.legend(bbox_to_anchor=(1.02, 1), loc='upper left', borderaxespad=0)\n",
    "plt.gca().axes.get_yaxis().set_visible(False)\n",
    "plt.gca().axes.get_xaxis().set_visible(False)"
   ]
  },
  {
   "cell_type": "markdown",
   "id": "83f50aa9",
   "metadata": {},
   "source": [
    "### 2. Most used types of messages."
   ]
  },
  {
   "cell_type": "markdown",
   "id": "d6357f90",
   "metadata": {},
   "source": [
    "1e6 - millions, the most used type is text."
   ]
  },
  {
   "cell_type": "code",
   "execution_count": 28,
   "id": "793bfe6a",
   "metadata": {},
   "outputs": [
    {
     "data": {
      "text/plain": [
       "<matplotlib.legend.Legend at 0x25714caf8e0>"
      ]
     },
     "execution_count": 28,
     "metadata": {},
     "output_type": "execute_result"
    },
    {
     "data": {
      "image/png": "[encoded data removed]",
      "text/plain": [
       "<Figure size 432x288 with 1 Axes>"
      ]
     },
     "metadata": {
      "needs_background": "light"
     },
     "output_type": "display_data"
    }
   ],
   "source": [
    "used = df.groupby(['type']).count()\n",
    "used['type'] = used.index.get_level_values(0)\n",
    "sns.barplot(y=\"message\", x=used.type, data=used, hue='type', dodge=False).set_title('Most used types of messages', fontsize=16)\n",
    "plt.legend(bbox_to_anchor=(1.02, 1), loc='upper left', borderaxespad=0)"
   ]
  },
  {
   "cell_type": "markdown",
   "id": "414404c4",
   "metadata": {},
   "source": [
    "### 3. Top-10 most used stickers."
   ]
  },
  {
   "cell_type": "markdown",
   "id": "ef6383cd",
   "metadata": {},
   "source": [
    "Newer stickers do not show, old ones do (the fonts are installed)."
   ]
  },
  {
   "cell_type": "code",
   "execution_count": 100,
   "id": "f62ede13",
   "metadata": {},
   "outputs": [
    {
     "data": {
      "text/html": [
       "<div>\n",
       "<style scoped>\n",
       "    .dataframe tbody tr th:only-of-type {\n",
       "        vertical-align: middle;\n",
       "    }\n",
       "\n",
       "    .dataframe tbody tr th {\n",
       "        vertical-align: top;\n",
       "    }\n",
       "\n",
       "    .dataframe thead th {\n",
       "        text-align: right;\n",
       "    }\n",
       "</style>\n",
       "<table border=\"1\" class=\"dataframe\">\n",
       "  <thead>\n",
       "    <tr style=\"text-align: right;\">\n",
       "      <th></th>\n",
       "      <th>index</th>\n",
       "      <th>count</th>\n",
       "    </tr>\n",
       "  </thead>\n",
       "  <tbody>\n",
       "    <tr>\n",
       "      <th>31</th>\n",
       "      <td>👍</td>\n",
       "      <td>467</td>\n",
       "    </tr>\n",
       "    <tr>\n",
       "      <th>19</th>\n",
       "      <td>😍</td>\n",
       "      <td>296</td>\n",
       "    </tr>\n",
       "    <tr>\n",
       "      <th>14</th>\n",
       "      <td>🙂</td>\n",
       "      <td>275</td>\n",
       "    </tr>\n",
       "    <tr>\n",
       "      <th>12</th>\n",
       "      <td>😭</td>\n",
       "      <td>262</td>\n",
       "    </tr>\n",
       "    <tr>\n",
       "      <th>118</th>\n",
       "      <td>😎</td>\n",
       "      <td>258</td>\n",
       "    </tr>\n",
       "    <tr>\n",
       "      <th>102</th>\n",
       "      <td>😘</td>\n",
       "      <td>231</td>\n",
       "    </tr>\n",
       "    <tr>\n",
       "      <th>3</th>\n",
       "      <td>🥺</td>\n",
       "      <td>219</td>\n",
       "    </tr>\n",
       "    <tr>\n",
       "      <th>68</th>\n",
       "      <td>😳</td>\n",
       "      <td>203</td>\n",
       "    </tr>\n",
       "    <tr>\n",
       "      <th>16</th>\n",
       "      <td>❤️</td>\n",
       "      <td>195</td>\n",
       "    </tr>\n",
       "    <tr>\n",
       "      <th>22</th>\n",
       "      <td>😏</td>\n",
       "      <td>193</td>\n",
       "    </tr>\n",
       "    <tr>\n",
       "      <th>156</th>\n",
       "      <td>👌</td>\n",
       "      <td>190</td>\n",
       "    </tr>\n",
       "    <tr>\n",
       "      <th>45</th>\n",
       "      <td>😡</td>\n",
       "      <td>185</td>\n",
       "    </tr>\n",
       "  </tbody>\n",
       "</table>\n",
       "</div>"
      ],
      "text/plain": [
       "    index  count\n",
       "31      👍    467\n",
       "19      😍    296\n",
       "14      🙂    275\n",
       "12      😭    262\n",
       "118     😎    258\n",
       "102     😘    231\n",
       "3       🥺    219\n",
       "68      😳    203\n",
       "16     ❤️    195\n",
       "22      😏    193\n",
       "156     👌    190\n",
       "45      😡    185"
      ]
     },
     "execution_count": 100,
     "metadata": {},
     "output_type": "execute_result"
    }
   ],
   "source": [
    "stickers = df[(df[\"type\"]==\"sticker\")]\n",
    "## new dataframe with texts\n",
    "stick = stickers[[\"message\",\"from_id\"]]\n",
    "x = stick.applymap(str)\n",
    "\n",
    "scounter = Counter(\" \".join(x[\"message\"]).split())\n",
    "ss = pd.DataFrame.from_dict(scounter, orient=\"index\").reset_index()\n",
    "ss.columns.values[1] = \"count\"\n",
    "ss = ss.sort_values(by=\"count\",ascending=False)\n",
    "\n",
    "ss = ss.iloc[1:13]\n",
    "ss"
   ]
  },
  {
   "cell_type": "code",
   "execution_count": 166,
   "id": "a9c86de5",
   "metadata": {},
   "outputs": [
    {
     "name": "stderr",
     "output_type": "stream",
     "text": [
      "C:\\Users\\westc\\anaconda3\\lib\\site-packages\\matplotlib\\backends\\backend_agg.py:240: RuntimeWarning: Glyph 128077 missing from current font.\n",
      "  font.set_text(s, 0.0, flags=flags)\n",
      "C:\\Users\\westc\\anaconda3\\lib\\site-packages\\matplotlib\\backends\\backend_agg.py:240: RuntimeWarning: Glyph 128578 missing from current font.\n",
      "  font.set_text(s, 0.0, flags=flags)\n",
      "C:\\Users\\westc\\anaconda3\\lib\\site-packages\\matplotlib\\backends\\backend_agg.py:240: RuntimeWarning: Glyph 129402 missing from current font.\n",
      "  font.set_text(s, 0.0, flags=flags)\n",
      "C:\\Users\\westc\\anaconda3\\lib\\site-packages\\matplotlib\\backends\\backend_agg.py:240: RuntimeWarning: Glyph 128076 missing from current font.\n",
      "  font.set_text(s, 0.0, flags=flags)\n",
      "C:\\Users\\westc\\anaconda3\\lib\\site-packages\\matplotlib\\backends\\backend_agg.py:203: RuntimeWarning: Glyph 128077 missing from current font.\n",
      "  font.set_text(s, 0, flags=flags)\n",
      "C:\\Users\\westc\\anaconda3\\lib\\site-packages\\matplotlib\\backends\\backend_agg.py:203: RuntimeWarning: Glyph 128578 missing from current font.\n",
      "  font.set_text(s, 0, flags=flags)\n",
      "C:\\Users\\westc\\anaconda3\\lib\\site-packages\\matplotlib\\backends\\backend_agg.py:203: RuntimeWarning: Glyph 129402 missing from current font.\n",
      "  font.set_text(s, 0, flags=flags)\n",
      "C:\\Users\\westc\\anaconda3\\lib\\site-packages\\matplotlib\\backends\\backend_agg.py:203: RuntimeWarning: Glyph 128076 missing from current font.\n",
      "  font.set_text(s, 0, flags=flags)\n"
     ]
    },
    {
     "data": {
      "image/png": "[encoded data removed]",
      "text/plain": [
       "<Figure size 432x288 with 1 Axes>"
      ]
     },
     "metadata": {
      "needs_background": "light"
     },
     "output_type": "display_data"
    }
   ],
   "source": [
    "xx = sns.barplot(y=\"count\", x=ss.iloc[:,0], data=ss, hue='index', dodge=False).set_title('Top-10 used stickers', fontsize=16)\n",
    "plt.legend(bbox_to_anchor=(1.02, 1), loc='upper left', borderaxespad=0)\n",
    "plt.show('png')"
   ]
  },
  {
   "cell_type": "code",
   "execution_count": 167,
   "id": "2f522303",
   "metadata": {},
   "outputs": [
    {
     "data": {
      "text/plain": [
       "<matplotlib.legend.Legend at 0x29c977defa0>"
      ]
     },
     "execution_count": 167,
     "metadata": {},
     "output_type": "execute_result"
    },
    {
     "data": {
      "image/png": "[encoded data removed]",
      "text/plain": [
       "<Figure size 504x504 with 1 Axes>"
      ]
     },
     "metadata": {},
     "output_type": "display_data"
    }
   ],
   "source": [
    "plot = ss.plot.pie(y='count', labels = ss.iloc[:,0], figsize=(7, 7))\n",
    "plt.legend(bbox_to_anchor=(1.02, 1), loc='upper left', borderaxespad=0)"
   ]
  },
  {
   "cell_type": "markdown",
   "id": "0eec738e",
   "metadata": {},
   "source": [
    "### 4. Messages per month"
   ]
  },
  {
   "cell_type": "markdown",
   "id": "5ad84764",
   "metadata": {},
   "source": [
    "I needed a function to transform time, so i can use this data too. Internet helped me with this transformation."
   ]
  },
  {
   "cell_type": "code",
   "execution_count": 116,
   "id": "9db83d05",
   "metadata": {},
   "outputs": [],
   "source": [
    "def transform_time(data):\n",
    "    data.message = data.message.fillna('')\n",
    "    data['date'] = data.date.apply(lambda x: pd.to_datetime(x))\n",
    "    data['year'] = data.date.apply(lambda x: x.year)\n",
    "    data['month'] = data.date.apply(lambda x: x.month)\n",
    "    data['day'] = data.date.apply(lambda x: x.day)\n",
    "    data['hour'] = data.date.apply(lambda x: x.hour)\n",
    "    data['minute'] = data.date.apply(lambda x: x.minute)\n",
    "    data['second'] = data.date.apply(lambda x: x.second)\n",
    "    data = data.set_index('date')\n",
    "    data.head()\n",
    "    return data"
   ]
  },
  {
   "cell_type": "code",
   "execution_count": 117,
   "id": "e777d76b",
   "metadata": {},
   "outputs": [],
   "source": [
    "data = transform_time(df)"
   ]
  },
  {
   "cell_type": "code",
   "execution_count": 118,
   "id": "f526f7d4",
   "metadata": {},
   "outputs": [
    {
     "data": {
      "text/html": [
       "<div>\n",
       "<style scoped>\n",
       "    .dataframe tbody tr th:only-of-type {\n",
       "        vertical-align: middle;\n",
       "    }\n",
       "\n",
       "    .dataframe tbody tr th {\n",
       "        vertical-align: top;\n",
       "    }\n",
       "\n",
       "    .dataframe thead th {\n",
       "        text-align: right;\n",
       "    }\n",
       "</style>\n",
       "<table border=\"1\" class=\"dataframe\">\n",
       "  <thead>\n",
       "    <tr style=\"text-align: right;\">\n",
       "      <th></th>\n",
       "      <th>id</th>\n",
       "      <th>from_id</th>\n",
       "      <th>to_id</th>\n",
       "      <th>fwd_from</th>\n",
       "      <th>message</th>\n",
       "      <th>type</th>\n",
       "      <th>duration</th>\n",
       "      <th>dialog_id</th>\n",
       "      <th>year</th>\n",
       "      <th>month</th>\n",
       "      <th>day</th>\n",
       "      <th>hour</th>\n",
       "      <th>minute</th>\n",
       "      <th>second</th>\n",
       "    </tr>\n",
       "    <tr>\n",
       "      <th>date</th>\n",
       "      <th></th>\n",
       "      <th></th>\n",
       "      <th></th>\n",
       "      <th></th>\n",
       "      <th></th>\n",
       "      <th></th>\n",
       "      <th></th>\n",
       "      <th></th>\n",
       "      <th></th>\n",
       "      <th></th>\n",
       "      <th></th>\n",
       "      <th></th>\n",
       "      <th></th>\n",
       "      <th></th>\n",
       "    </tr>\n",
       "  </thead>\n",
       "  <tbody>\n",
       "    <tr>\n",
       "      <th>2022-02-22 13:10:49+00:00</th>\n",
       "      <td>896</td>\n",
       "      <td>NaN</td>\n",
       "      <td>PeerChannel(channel_id=1121077046)</td>\n",
       "      <td>NaN</td>\n",
       "      <td></td>\n",
       "      <td>text</td>\n",
       "      <td>NaN</td>\n",
       "      <td>-1001121077046</td>\n",
       "      <td>2022</td>\n",
       "      <td>2</td>\n",
       "      <td>22</td>\n",
       "      <td>13</td>\n",
       "      <td>10</td>\n",
       "      <td>49</td>\n",
       "    </tr>\n",
       "    <tr>\n",
       "      <th>2022-02-22 13:10:41+00:00</th>\n",
       "      <td>895</td>\n",
       "      <td>NaN</td>\n",
       "      <td>PeerChannel(channel_id=1121077046)</td>\n",
       "      <td>NaN</td>\n",
       "      <td>​​Твоя тривога має місце бути.\\n\\nМи справді н...</td>\n",
       "      <td>photo</td>\n",
       "      <td>NaN</td>\n",
       "      <td>-1001121077046</td>\n",
       "      <td>2022</td>\n",
       "      <td>2</td>\n",
       "      <td>22</td>\n",
       "      <td>13</td>\n",
       "      <td>10</td>\n",
       "      <td>41</td>\n",
       "    </tr>\n",
       "  </tbody>\n",
       "</table>\n",
       "</div>"
      ],
      "text/plain": [
       "                            id from_id                               to_id  \\\n",
       "date                                                                         \n",
       "2022-02-22 13:10:49+00:00  896     NaN  PeerChannel(channel_id=1121077046)   \n",
       "2022-02-22 13:10:41+00:00  895     NaN  PeerChannel(channel_id=1121077046)   \n",
       "\n",
       "                          fwd_from  \\\n",
       "date                                 \n",
       "2022-02-22 13:10:49+00:00      NaN   \n",
       "2022-02-22 13:10:41+00:00      NaN   \n",
       "\n",
       "                                                                     message  \\\n",
       "date                                                                           \n",
       "2022-02-22 13:10:49+00:00                                                      \n",
       "2022-02-22 13:10:41+00:00  ​​Твоя тривога має місце бути.\\n\\nМи справді н...   \n",
       "\n",
       "                            type  duration      dialog_id  year  month  day  \\\n",
       "date                                                                          \n",
       "2022-02-22 13:10:49+00:00   text       NaN -1001121077046  2022      2   22   \n",
       "2022-02-22 13:10:41+00:00  photo       NaN -1001121077046  2022      2   22   \n",
       "\n",
       "                           hour  minute  second  \n",
       "date                                             \n",
       "2022-02-22 13:10:49+00:00    13      10      49  \n",
       "2022-02-22 13:10:41+00:00    13      10      41  "
      ]
     },
     "execution_count": 118,
     "metadata": {},
     "output_type": "execute_result"
    }
   ],
   "source": [
    "data.head(2)"
   ]
  },
  {
   "cell_type": "code",
   "execution_count": 125,
   "id": "1fb15872",
   "metadata": {},
   "outputs": [
    {
     "data": {
      "text/plain": [
       "<matplotlib.legend.Legend at 0x29c744a00d0>"
      ]
     },
     "execution_count": 125,
     "metadata": {},
     "output_type": "execute_result"
    },
    {
     "data": {
      "image/png": "[encoded data removed]",
      "text/plain": [
       "<Figure size 432x288 with 1 Axes>"
      ]
     },
     "metadata": {
      "needs_background": "light"
     },
     "output_type": "display_data"
    }
   ],
   "source": [
    "gr = data.groupby(['month']).count()\n",
    "gr['month'] = gr.index.get_level_values(0)\n",
    "sns.barplot(y=\"message\", x=\"month\", data=gr, hue='month', palette = 'pastel', dodge=False).set_title('Monthly messages', fontsize=20)\n",
    "plt.legend(bbox_to_anchor=(1.02, 1), loc='upper left', borderaxespad=0)"
   ]
  },
  {
   "cell_type": "code",
   "execution_count": 124,
   "id": "9e1d8cc8",
   "metadata": {},
   "outputs": [
    {
     "data": {
      "text/plain": [
       "<matplotlib.legend.Legend at 0x29c082cfa30>"
      ]
     },
     "execution_count": 124,
     "metadata": {},
     "output_type": "execute_result"
    },
    {
     "data": {
      "image/png": "[encoded data removed]",
      "text/plain": [
       "<Figure size 432x288 with 1 Axes>"
      ]
     },
     "metadata": {
      "needs_background": "light"
     },
     "output_type": "display_data"
    }
   ],
   "source": [
    "gr = data.groupby(['year']).count()\n",
    "gr['year'] = gr.index.get_level_values(0)\n",
    "sns.barplot(y=\"message\", x=\"year\", data=gr, hue='year', palette = 'pastel', dodge=False).set_title('Yearly messages', fontsize=20)\n",
    "plt.legend(bbox_to_anchor=(1.02, 1), loc='upper left', borderaxespad=0)"
   ]
  },
  {
   "cell_type": "markdown",
   "id": "a1816ca6",
   "metadata": {},
   "source": [
    "### 5. Most used types of messages in December?"
   ]
  },
  {
   "cell_type": "markdown",
   "id": "e3a974b3",
   "metadata": {},
   "source": [
    "Since December is the month when I communicate the most, I want to have a look at what kind of messages I get."
   ]
  },
  {
   "cell_type": "code",
   "execution_count": 70,
   "id": "baa94660",
   "metadata": {},
   "outputs": [
    {
     "data": {
      "text/plain": [
       "<matplotlib.legend.Legend at 0x29a320a64f0>"
      ]
     },
     "execution_count": 70,
     "metadata": {},
     "output_type": "execute_result"
    },
    {
     "data": {
      "image/png": "[encoded data removed]",
      "text/plain": [
       "<Figure size 432x288 with 1 Axes>"
      ]
     },
     "metadata": {
      "needs_background": "light"
     },
     "output_type": "display_data"
    }
   ],
   "source": [
    "dec = df[(df[\"month\"]==12)]\n",
    "tdec = dec.groupby(['type']).count()\n",
    "tdec['type'] = tdec.index.get_level_values(0)\n",
    "sns.barplot(y=\"message\", x=tdec.type, data=tdec, hue='type', dodge=False).set_title('Most used types of messages in December', fontsize=14)\n",
    "plt.legend(bbox_to_anchor=(1.02, 1), loc='upper left', borderaxespad=0)"
   ]
  },
  {
   "cell_type": "code",
   "execution_count": 133,
   "id": "3a0906bd",
   "metadata": {},
   "outputs": [
    {
     "data": {
      "text/plain": [
       "<matplotlib.legend.Legend at 0x29c87142fd0>"
      ]
     },
     "execution_count": 133,
     "metadata": {},
     "output_type": "execute_result"
    },
    {
     "data": {
      "image/png": "[encoded data removed]",
      "text/plain": [
       "<Figure size 432x288 with 1 Axes>"
      ]
     },
     "metadata": {
      "needs_background": "light"
     },
     "output_type": "display_data"
    }
   ],
   "source": [
    "dec = df[(df[\"type\"]=='photo')]\n",
    "tdec = dec.groupby(['month']).count()\n",
    "tdec['month'] = tdec.index.get_level_values(0)\n",
    "sns.barplot(y=\"message\", x=tdec.month, data=tdec, hue='month', palette = 'pastel', dodge=False).set_title('Sending most pictures in?', fontsize=14)\n",
    "plt.legend(bbox_to_anchor=(1.02, 1), loc='upper left', borderaxespad=0)"
   ]
  },
  {
   "cell_type": "markdown",
   "id": "1f7b14f1",
   "metadata": {},
   "source": [
    "We can actually check it: the total number of messages in December in previous plot is more than 160k. Here we have around 150k texts, around 10k photos ~ 160k. Plus, the other bits like stickers, videos and voice messages."
   ]
  },
  {
   "cell_type": "markdown",
   "id": "87167264",
   "metadata": {},
   "source": [
    "### 6. Most active hours?"
   ]
  },
  {
   "cell_type": "code",
   "execution_count": 136,
   "id": "494e9f7f",
   "metadata": {},
   "outputs": [],
   "source": [
    "data['from_id']=data['from_id'].apply(lambda x: str(x))\n",
    "sent=data[data[\"from_id\"].str.contains(\"\")].copy()"
   ]
  },
  {
   "cell_type": "code",
   "execution_count": 138,
   "id": "d5f4c633",
   "metadata": {},
   "outputs": [
    {
     "data": {
      "text/plain": [
       "<matplotlib.legend.Legend at 0x29c82b03070>"
      ]
     },
     "execution_count": 138,
     "metadata": {},
     "output_type": "execute_result"
    },
    {
     "data": {
      "image/png": "[encoded data removed]",
      "text/plain": [
       "<Figure size 720x504 with 1 Axes>"
      ]
     },
     "metadata": {
      "needs_background": "light"
     },
     "output_type": "display_data"
    }
   ],
   "source": [
    "grouped_by_from = sent.groupby(['hour']).count()\n",
    "grouped_by_from['hour'] = grouped_by_from.index.get_level_values(0)\n",
    "plt.figure(figsize=(10, 7))\n",
    "sns.barplot(y=\"message\", x='hour', data=grouped_by_from, hue='hour', palette = 'pastel', dodge=False).set_title('Hourly messages', fontsize=20);\n",
    "plt.legend(bbox_to_anchor=(1.02, 1), loc='upper left', borderaxespad=0)"
   ]
  },
  {
   "cell_type": "markdown",
   "id": "1c7f37ae",
   "metadata": {},
   "source": [
    "### 7. How much did I swear? +"
   ]
  },
  {
   "cell_type": "code",
   "execution_count": 161,
   "id": "92a1d956",
   "metadata": {},
   "outputs": [],
   "source": [
    "texts = sent[(sent[\"type\"]==\"text\")]\n",
    "fuck = texts.message.str.contains('fuck ').sum()\n",
    "fucking = texts.message.str.contains('fucking').sum()\n",
    "damn = texts.message.str.contains('damn').sum()\n",
    "bitch = texts.message.str.contains('bitch').sum()\n",
    "hell = texts.message.str.contains('hell').sum()\n",
    "shit = texts.message.str.contains('shit').sum()"
   ]
  },
  {
   "cell_type": "code",
   "execution_count": 164,
   "id": "8b982024",
   "metadata": {},
   "outputs": [
    {
     "data": {
      "image/png": "[encoded data removed]",
      "text/plain": [
       "<Figure size 432x288 with 1 Axes>"
      ]
     },
     "metadata": {},
     "output_type": "display_data"
    }
   ],
   "source": [
    "dat = [['fuck', fuck], ['shit', shit], ['bitch', bitch], ['hell', hell], ['damn', damn], ['fucking', fucking]]\n",
    "swear = pd.DataFrame(dat, columns = ['swear word', 'count'])\n",
    "swear = swear.sort_values(by = 'count', ascending = False)\n",
    "ax = swear.plot.pie(y='count', colors = colors, labels=swear.iloc[:,0], startangle=90, pctdistance=0.85)\n",
    "#draw circle\n",
    "centre_circle = plt.Circle((0,0),0.70,fc='white')\n",
    "fig = plt.gcf()\n",
    "fig.gca().add_artist(centre_circle)\n",
    "ax.legend(bbox_to_anchor=(1.02, 1), loc='lower left', borderaxespad=0)\n",
    "plt.gca().axes.get_yaxis().set_visible(False)\n",
    "plt.show()"
   ]
  },
  {
   "cell_type": "code",
   "execution_count": 43,
   "id": "3cff7a28",
   "metadata": {
    "scrolled": true
   },
   "outputs": [
    {
     "data": {
      "text/html": [
       "<div>\n",
       "<style scoped>\n",
       "    .dataframe tbody tr th:only-of-type {\n",
       "        vertical-align: middle;\n",
       "    }\n",
       "\n",
       "    .dataframe tbody tr th {\n",
       "        vertical-align: top;\n",
       "    }\n",
       "\n",
       "    .dataframe thead th {\n",
       "        text-align: right;\n",
       "    }\n",
       "</style>\n",
       "<table border=\"1\" class=\"dataframe\">\n",
       "  <thead>\n",
       "    <tr style=\"text-align: right;\">\n",
       "      <th></th>\n",
       "      <th>swear word</th>\n",
       "      <th>count</th>\n",
       "    </tr>\n",
       "  </thead>\n",
       "  <tbody>\n",
       "    <tr>\n",
       "      <th>0</th>\n",
       "      <td>fuck</td>\n",
       "      <td>263</td>\n",
       "    </tr>\n",
       "    <tr>\n",
       "      <th>1</th>\n",
       "      <td>shit</td>\n",
       "      <td>184</td>\n",
       "    </tr>\n",
       "    <tr>\n",
       "      <th>2</th>\n",
       "      <td>bitch</td>\n",
       "      <td>142</td>\n",
       "    </tr>\n",
       "    <tr>\n",
       "      <th>3</th>\n",
       "      <td>hell</td>\n",
       "      <td>199</td>\n",
       "    </tr>\n",
       "    <tr>\n",
       "      <th>4</th>\n",
       "      <td>damn</td>\n",
       "      <td>51</td>\n",
       "    </tr>\n",
       "    <tr>\n",
       "      <th>5</th>\n",
       "      <td>fucking</td>\n",
       "      <td>188</td>\n",
       "    </tr>\n",
       "  </tbody>\n",
       "</table>\n",
       "</div>"
      ],
      "text/plain": [
       "  swear word  count\n",
       "0       fuck    263\n",
       "1       shit    184\n",
       "2      bitch    142\n",
       "3       hell    199\n",
       "4       damn     51\n",
       "5    fucking    188"
      ]
     },
     "execution_count": 43,
     "metadata": {},
     "output_type": "execute_result"
    }
   ],
   "source": [
    "swear"
   ]
  },
  {
   "cell_type": "code",
   "execution_count": 115,
   "id": "9a48d6b9",
   "metadata": {},
   "outputs": [],
   "source": [
    "colors = ['#ff7f50','#dda0dd','#afeeee','#98fb98', '#ff69B4', '#FBEC5D']"
   ]
  },
  {
   "cell_type": "markdown",
   "id": "ec34aa2f",
   "metadata": {},
   "source": [
    "### 8. When do we swear the most? +"
   ]
  },
  {
   "cell_type": "code",
   "execution_count": 150,
   "id": "a04b29af",
   "metadata": {},
   "outputs": [],
   "source": [
    "swear1 = pd.DataFrame(data, columns = ['hour', 'message'])\n",
    "fuck1 = swear1[swear1['message'].str.contains('fuck ')].groupby('hour').count()\n",
    "shit1 = swear1[swear1['message'].str.contains('shit')].groupby('hour').count()\n",
    "bitch1 = swear1[swear1['message'].str.contains('bitch')].groupby('hour').count()\n",
    "hell1 = swear1[swear1['message'].str.contains('hell')].groupby('hour').count()\n",
    "damn1 = swear1[swear1['message'].str.contains('damn')].groupby('hour').count()\n",
    "fucking1 = swear1[swear1['message'].str.contains('fucking')].groupby('hour').count()"
   ]
  },
  {
   "cell_type": "code",
   "execution_count": 151,
   "id": "4fc86f05",
   "metadata": {},
   "outputs": [],
   "source": [
    "data1 = [['fuck', fuck1], ['shit', shit1], ['bitch', bitch1], ['hell', hell1], ['damn', damn1], ['fucking', fucking1]]"
   ]
  },
  {
   "cell_type": "code",
   "execution_count": 152,
   "id": "2d831388",
   "metadata": {},
   "outputs": [
    {
     "data": {
      "text/plain": [
       "[['fuck',\n",
       "        message\n",
       "  hour         \n",
       "  0          25\n",
       "  1           7\n",
       "  2           5\n",
       "  4           4\n",
       "  5           7\n",
       "  6           1\n",
       "  8          11\n",
       "  9          12\n",
       "  10          5\n",
       "  11          8\n",
       "  12         24\n",
       "  13         10\n",
       "  14         11\n",
       "  15         23\n",
       "  16         16\n",
       "  17         24\n",
       "  18         30\n",
       "  19         32\n",
       "  20         45\n",
       "  21         34\n",
       "  22         44\n",
       "  23         36],\n",
       " ['shit',\n",
       "        message\n",
       "  hour         \n",
       "  0          27\n",
       "  1           4\n",
       "  2           1\n",
       "  4           2\n",
       "  5           2\n",
       "  6           2\n",
       "  7           4\n",
       "  8           8\n",
       "  9           3\n",
       "  10          3\n",
       "  11          3\n",
       "  12         17\n",
       "  13         12\n",
       "  14         22\n",
       "  15         15\n",
       "  16         16\n",
       "  17         19\n",
       "  18         32\n",
       "  19         27\n",
       "  20         35\n",
       "  21         45\n",
       "  22         40\n",
       "  23         24],\n",
       " ['bitch',\n",
       "        message\n",
       "  hour         \n",
       "  0          12\n",
       "  1           2\n",
       "  2           7\n",
       "  3           2\n",
       "  6           1\n",
       "  7           1\n",
       "  8           4\n",
       "  9           7\n",
       "  10          2\n",
       "  11          6\n",
       "  12         11\n",
       "  13         15\n",
       "  14         14\n",
       "  15         14\n",
       "  16         14\n",
       "  17         15\n",
       "  18         32\n",
       "  19         14\n",
       "  20         26\n",
       "  21         40\n",
       "  22         26\n",
       "  23         20],\n",
       " ['hell',\n",
       "        message\n",
       "  hour         \n",
       "  0          18\n",
       "  1           6\n",
       "  2           6\n",
       "  3           3\n",
       "  4           3\n",
       "  5           4\n",
       "  6           1\n",
       "  7           3\n",
       "  8           3\n",
       "  9          12\n",
       "  10          8\n",
       "  11          6\n",
       "  12         12\n",
       "  13         13\n",
       "  14          9\n",
       "  15         23\n",
       "  16         12\n",
       "  17         28\n",
       "  18         22\n",
       "  19         39\n",
       "  20         24\n",
       "  21         16\n",
       "  22         23\n",
       "  23         43],\n",
       " ['damn',\n",
       "        message\n",
       "  hour         \n",
       "  0           4\n",
       "  1           2\n",
       "  2           2\n",
       "  8           3\n",
       "  10          3\n",
       "  11          4\n",
       "  12          7\n",
       "  13          5\n",
       "  14         19\n",
       "  15         10\n",
       "  16          5\n",
       "  17          8\n",
       "  18         12\n",
       "  19         13\n",
       "  20         12\n",
       "  21         16\n",
       "  22          9\n",
       "  23         12],\n",
       " ['fucking',\n",
       "        message\n",
       "  hour         \n",
       "  0          14\n",
       "  1           8\n",
       "  2           6\n",
       "  3           2\n",
       "  4           2\n",
       "  5           4\n",
       "  6           1\n",
       "  7           2\n",
       "  8          12\n",
       "  9          12\n",
       "  10          5\n",
       "  11          4\n",
       "  12         13\n",
       "  13         13\n",
       "  14         10\n",
       "  15          9\n",
       "  16         14\n",
       "  17         15\n",
       "  18         24\n",
       "  19         28\n",
       "  20         27\n",
       "  21         39\n",
       "  22         23\n",
       "  23         31]]"
      ]
     },
     "execution_count": 152,
     "metadata": {},
     "output_type": "execute_result"
    }
   ],
   "source": [
    "data1"
   ]
  },
  {
   "cell_type": "code",
   "execution_count": 159,
   "id": "c80c4150",
   "metadata": {
    "scrolled": true
   },
   "outputs": [
    {
     "data": {
      "text/plain": [
       "<matplotlib.legend.Legend at 0x29c976ceb50>"
      ]
     },
     "execution_count": 159,
     "metadata": {},
     "output_type": "execute_result"
    },
    {
     "data": {
      "image/png": "[encoded data removed]",
      "text/plain": [
       "<Figure size 432x288 with 1 Axes>"
      ]
     },
     "metadata": {
      "needs_background": "light"
     },
     "output_type": "display_data"
    }
   ],
   "source": [
    "sx = fuck1.plot()\n",
    "shit1.plot(ax=sx)\n",
    "bitch1.plot(ax=sx)\n",
    "hell1.plot(ax=sx)\n",
    "damn1.plot(ax=sx)\n",
    "fucking1.plot(ax=sx)\n",
    "sx.legend(labels = ['fuck', 'shit', 'bitch', 'hell', 'damn', 'fucking'])\n"
   ]
  },
  {
   "cell_type": "markdown",
   "id": "7b118ff9",
   "metadata": {},
   "source": [
    "At 8 pm."
   ]
  },
  {
   "cell_type": "markdown",
   "id": "36c26130",
   "metadata": {},
   "source": [
    "### 9. How many tiktoks we exchanged? And when? +"
   ]
  },
  {
   "cell_type": "code",
   "execution_count": 205,
   "id": "a52014b1",
   "metadata": {},
   "outputs": [],
   "source": [
    "df['year'] = df.date.apply(lambda x: x.year)"
   ]
  },
  {
   "cell_type": "code",
   "execution_count": 206,
   "id": "9c95a286",
   "metadata": {},
   "outputs": [],
   "source": [
    "texts = df[(df[\"type\"]==\"text\")]\n",
    "tiktok = texts.message.str.contains('vm.tiktok.com').sum()"
   ]
  },
  {
   "cell_type": "code",
   "execution_count": 207,
   "id": "bf7752e9",
   "metadata": {},
   "outputs": [
    {
     "data": {
      "text/plain": [
       "2070"
      ]
     },
     "execution_count": 207,
     "metadata": {},
     "output_type": "execute_result"
    }
   ],
   "source": [
    "tiktok"
   ]
  },
  {
   "cell_type": "code",
   "execution_count": 208,
   "id": "ebc4d805",
   "metadata": {},
   "outputs": [
    {
     "data": {
      "text/plain": [
       "<matplotlib.legend.Legend at 0x29a57b655e0>"
      ]
     },
     "execution_count": 208,
     "metadata": {},
     "output_type": "execute_result"
    },
    {
     "data": {
      "image/png": "[encoded data removed]",
      "text/plain": [
       "<Figure size 432x288 with 1 Axes>"
      ]
     },
     "metadata": {
      "needs_background": "light"
     },
     "output_type": "display_data"
    }
   ],
   "source": [
    "tt = pd.DataFrame(data, columns = ['month', 'message'])\n",
    "tt = tt[tt['message'].str.contains('vm.tiktok.com')].groupby('month').count()\n",
    "ax = tt.plot()\n",
    "ax.legend(labels = ['tiktok links'])"
   ]
  },
  {
   "cell_type": "markdown",
   "id": "2197d790",
   "metadata": {},
   "source": [
    "The most links are sent between february and may - right when lockdowns and war happened, so it is pretty logical."
   ]
  },
  {
   "cell_type": "markdown",
   "id": "a01a913d",
   "metadata": {},
   "source": [
    "### 10. What links are the most popular: Youtube, Tiktok or Twitter? +"
   ]
  },
  {
   "cell_type": "code",
   "execution_count": 69,
   "id": "c6b5f18b",
   "metadata": {},
   "outputs": [],
   "source": [
    "texts = df[(df[\"type\"]==\"text\")]\n",
    "tiktok = texts.message.str.contains('vm.tiktok.com').sum()"
   ]
  },
  {
   "cell_type": "code",
   "execution_count": 70,
   "id": "6f453750",
   "metadata": {},
   "outputs": [],
   "source": [
    "yt1 = texts.message.str.contains('youtube.com').sum()\n",
    "yt2 = texts.message.str.contains('youtu.be').sum()\n",
    "yt = yt1 + yt2"
   ]
  },
  {
   "cell_type": "code",
   "execution_count": 71,
   "id": "b164773f",
   "metadata": {},
   "outputs": [],
   "source": [
    "tw = texts.message.str.contains('twitter.com').sum()"
   ]
  },
  {
   "cell_type": "code",
   "execution_count": 72,
   "id": "ef8f1a30",
   "metadata": {},
   "outputs": [],
   "source": [
    "socials = [['youtube', yt], ['twitter', tw], ['tiktok', tiktok]]"
   ]
  },
  {
   "cell_type": "code",
   "execution_count": 73,
   "id": "8eacf901",
   "metadata": {},
   "outputs": [
    {
     "data": {
      "text/html": [
       "<div>\n",
       "<style scoped>\n",
       "    .dataframe tbody tr th:only-of-type {\n",
       "        vertical-align: middle;\n",
       "    }\n",
       "\n",
       "    .dataframe tbody tr th {\n",
       "        vertical-align: top;\n",
       "    }\n",
       "\n",
       "    .dataframe thead th {\n",
       "        text-align: right;\n",
       "    }\n",
       "</style>\n",
       "<table border=\"1\" class=\"dataframe\">\n",
       "  <thead>\n",
       "    <tr style=\"text-align: right;\">\n",
       "      <th></th>\n",
       "      <th>social media</th>\n",
       "      <th>num of links</th>\n",
       "    </tr>\n",
       "  </thead>\n",
       "  <tbody>\n",
       "    <tr>\n",
       "      <th>0</th>\n",
       "      <td>youtube</td>\n",
       "      <td>159</td>\n",
       "    </tr>\n",
       "    <tr>\n",
       "      <th>1</th>\n",
       "      <td>twitter</td>\n",
       "      <td>347</td>\n",
       "    </tr>\n",
       "    <tr>\n",
       "      <th>2</th>\n",
       "      <td>tiktok</td>\n",
       "      <td>2070</td>\n",
       "    </tr>\n",
       "  </tbody>\n",
       "</table>\n",
       "</div>"
      ],
      "text/plain": [
       "  social media  num of links\n",
       "0      youtube           159\n",
       "1      twitter           347\n",
       "2       tiktok          2070"
      ]
     },
     "execution_count": 73,
     "metadata": {},
     "output_type": "execute_result"
    }
   ],
   "source": [
    "soc = pd.DataFrame(socials, columns = ['social media', 'num of links'])\n",
    "soc"
   ]
  },
  {
   "cell_type": "code",
   "execution_count": 103,
   "id": "41f3ec4c",
   "metadata": {},
   "outputs": [
    {
     "data": {
      "image/png": "[encoded data removed]",
      "text/plain": [
       "<Figure size 432x288 with 1 Axes>"
      ]
     },
     "metadata": {},
     "output_type": "display_data"
    }
   ],
   "source": [
    "ax = soc.plot.pie(y=\"num of links\", colors = colors, labels=soc.iloc[:,0], startangle=90, pctdistance=0.85)\n",
    "#draw circle\n",
    "centre_circle = plt.Circle((0,0),0.70,fc='white')\n",
    "fig = plt.gcf()\n",
    "fig.gca().add_artist(centre_circle)\n",
    "ax.legend(bbox_to_anchor=(1.02, 1), loc='lower left', borderaxespad=0)\n",
    "plt.gca().axes.get_yaxis().set_visible(False)\n",
    "plt.show()"
   ]
  },
  {
   "cell_type": "markdown",
   "id": "6c962b78",
   "metadata": {},
   "source": [
    "### 11. Links I sent vs. links sent to me. (minus the ones in channels and group chats)"
   ]
  },
  {
   "cell_type": "code",
   "execution_count": 140,
   "id": "68bffa0f",
   "metadata": {},
   "outputs": [
    {
     "data": {
      "text/html": [
       "<div>\n",
       "<style scoped>\n",
       "    .dataframe tbody tr th:only-of-type {\n",
       "        vertical-align: middle;\n",
       "    }\n",
       "\n",
       "    .dataframe tbody tr th {\n",
       "        vertical-align: top;\n",
       "    }\n",
       "\n",
       "    .dataframe thead th {\n",
       "        text-align: right;\n",
       "    }\n",
       "</style>\n",
       "<table border=\"1\" class=\"dataframe\">\n",
       "  <thead>\n",
       "    <tr style=\"text-align: right;\">\n",
       "      <th></th>\n",
       "      <th>social media</th>\n",
       "      <th>num of SENT links</th>\n",
       "    </tr>\n",
       "  </thead>\n",
       "  <tbody>\n",
       "    <tr>\n",
       "      <th>0</th>\n",
       "      <td>youtube</td>\n",
       "      <td>73</td>\n",
       "    </tr>\n",
       "    <tr>\n",
       "      <th>1</th>\n",
       "      <td>twitter</td>\n",
       "      <td>16</td>\n",
       "    </tr>\n",
       "    <tr>\n",
       "      <th>2</th>\n",
       "      <td>tiktok</td>\n",
       "      <td>1260</td>\n",
       "    </tr>\n",
       "  </tbody>\n",
       "</table>\n",
       "</div>"
      ],
      "text/plain": [
       "  social media  num of SENT links\n",
       "0      youtube                 73\n",
       "1      twitter                 16\n",
       "2       tiktok               1260"
      ]
     },
     "execution_count": 140,
     "metadata": {},
     "output_type": "execute_result"
    }
   ],
   "source": [
    "stexts = sent[(sent[\"type\"]==\"text\")]\n",
    "stiktok = stexts.message.str.contains('vm.tiktok.com').sum()\n",
    "syt1 = stexts.message.str.contains('youtube.com').sum()\n",
    "syt2 = stexts.message.str.contains('youtu.be').sum()\n",
    "syt = syt1 + syt2\n",
    "stw = stexts.message.str.contains('twitter.com').sum()\n",
    "ssocials = [['youtube', syt], ['twitter', stw], ['tiktok', stiktok]]\n",
    "socs = pd.DataFrame(ssocials, columns = ['social media', 'num of SENT links'])\n",
    "socs"
   ]
  },
  {
   "cell_type": "code",
   "execution_count": 79,
   "id": "d8cfb032",
   "metadata": {},
   "outputs": [],
   "source": [
    "data['to_id']=data['to_id'].apply(lambda x: str(x))\n",
    "rec=data[data[\"to_id\"].str.contains(\"319498185\")].copy()"
   ]
  },
  {
   "cell_type": "code",
   "execution_count": 81,
   "id": "996a6037",
   "metadata": {},
   "outputs": [
    {
     "data": {
      "text/html": [
       "<div>\n",
       "<style scoped>\n",
       "    .dataframe tbody tr th:only-of-type {\n",
       "        vertical-align: middle;\n",
       "    }\n",
       "\n",
       "    .dataframe tbody tr th {\n",
       "        vertical-align: top;\n",
       "    }\n",
       "\n",
       "    .dataframe thead th {\n",
       "        text-align: right;\n",
       "    }\n",
       "</style>\n",
       "<table border=\"1\" class=\"dataframe\">\n",
       "  <thead>\n",
       "    <tr style=\"text-align: right;\">\n",
       "      <th></th>\n",
       "      <th>social media</th>\n",
       "      <th>num of RECEIVED links</th>\n",
       "    </tr>\n",
       "  </thead>\n",
       "  <tbody>\n",
       "    <tr>\n",
       "      <th>0</th>\n",
       "      <td>youtube</td>\n",
       "      <td>25</td>\n",
       "    </tr>\n",
       "    <tr>\n",
       "      <th>1</th>\n",
       "      <td>twitter</td>\n",
       "      <td>79</td>\n",
       "    </tr>\n",
       "    <tr>\n",
       "      <th>2</th>\n",
       "      <td>tiktok</td>\n",
       "      <td>562</td>\n",
       "    </tr>\n",
       "  </tbody>\n",
       "</table>\n",
       "</div>"
      ],
      "text/plain": [
       "  social media  num of RECEIVED links\n",
       "0      youtube                     25\n",
       "1      twitter                     79\n",
       "2       tiktok                    562"
      ]
     },
     "execution_count": 81,
     "metadata": {},
     "output_type": "execute_result"
    }
   ],
   "source": [
    "rtexts = rec[(rec[\"type\"]==\"text\")]\n",
    "rtiktok = rtexts.message.str.contains('vm.tiktok.com').sum()\n",
    "ryt1 = rtexts.message.str.contains('youtube.com').sum()\n",
    "ryt2 = rtexts.message.str.contains('youtu.be').sum()\n",
    "ryt = ryt1 + ryt2\n",
    "rtw = rtexts.message.str.contains('twitter.com').sum()\n",
    "rsocials = [['youtube', ryt], ['twitter', rtw], ['tiktok', rtiktok]]\n",
    "socr = pd.DataFrame(rsocials, columns = ['social media', 'num of RECEIVED links'])\n",
    "socr"
   ]
  },
  {
   "cell_type": "code",
   "execution_count": 88,
   "id": "172ae2e4",
   "metadata": {},
   "outputs": [],
   "source": [
    "result = pd.concat([socs, socr.iloc[:,1]], axis=1)"
   ]
  },
  {
   "cell_type": "code",
   "execution_count": 89,
   "id": "9e60605c",
   "metadata": {},
   "outputs": [
    {
     "data": {
      "text/html": [
       "<div>\n",
       "<style scoped>\n",
       "    .dataframe tbody tr th:only-of-type {\n",
       "        vertical-align: middle;\n",
       "    }\n",
       "\n",
       "    .dataframe tbody tr th {\n",
       "        vertical-align: top;\n",
       "    }\n",
       "\n",
       "    .dataframe thead th {\n",
       "        text-align: right;\n",
       "    }\n",
       "</style>\n",
       "<table border=\"1\" class=\"dataframe\">\n",
       "  <thead>\n",
       "    <tr style=\"text-align: right;\">\n",
       "      <th></th>\n",
       "      <th>social media</th>\n",
       "      <th>num of SENT links</th>\n",
       "      <th>num of RECEIVED links</th>\n",
       "    </tr>\n",
       "  </thead>\n",
       "  <tbody>\n",
       "    <tr>\n",
       "      <th>0</th>\n",
       "      <td>youtube</td>\n",
       "      <td>73</td>\n",
       "      <td>25</td>\n",
       "    </tr>\n",
       "    <tr>\n",
       "      <th>1</th>\n",
       "      <td>twitter</td>\n",
       "      <td>16</td>\n",
       "      <td>79</td>\n",
       "    </tr>\n",
       "    <tr>\n",
       "      <th>2</th>\n",
       "      <td>tiktok</td>\n",
       "      <td>1260</td>\n",
       "      <td>562</td>\n",
       "    </tr>\n",
       "  </tbody>\n",
       "</table>\n",
       "</div>"
      ],
      "text/plain": [
       "  social media  num of SENT links  num of RECEIVED links\n",
       "0      youtube                 73                     25\n",
       "1      twitter                 16                     79\n",
       "2       tiktok               1260                    562"
      ]
     },
     "execution_count": 89,
     "metadata": {},
     "output_type": "execute_result"
    }
   ],
   "source": [
    "result"
   ]
  },
  {
   "cell_type": "code",
   "execution_count": 97,
   "id": "81952f02",
   "metadata": {},
   "outputs": [
    {
     "data": {
      "text/plain": [
       "<matplotlib.legend.Legend at 0x1be96992bb0>"
      ]
     },
     "execution_count": 97,
     "metadata": {},
     "output_type": "execute_result"
    },
    {
     "data": {
      "image/png": "[encoded data removed]",
      "text/plain": [
       "<Figure size 432x288 with 1 Axes>"
      ]
     },
     "metadata": {
      "needs_background": "light"
     },
     "output_type": "display_data"
    }
   ],
   "source": [
    "result.plot(x='social media', y=['num of SENT links', 'num of RECEIVED links'], kind=\"bar\")\n",
    "plt.legend(bbox_to_anchor=(1.02, 1), loc='upper left', borderaxespad=0)"
   ]
  },
  {
   "cell_type": "markdown",
   "id": "6843cac8",
   "metadata": {},
   "source": [
    "### 12. My top-5 most and least active days (I sent the messages)"
   ]
  },
  {
   "cell_type": "code",
   "execution_count": 100,
   "id": "681dfc8f",
   "metadata": {},
   "outputs": [
    {
     "data": {
      "text/plain": [
       "Text(0, 0.5, 'messages count')"
      ]
     },
     "execution_count": 100,
     "metadata": {},
     "output_type": "execute_result"
    },
    {
     "data": {
      "image/png": "[encoded data removed]",
      "text/plain": [
       "<Figure size 432x288 with 1 Axes>"
      ]
     },
     "metadata": {
      "needs_background": "light"
     },
     "output_type": "display_data"
    }
   ],
   "source": [
    "df['from_id']=df['from_id'].apply(lambda x: str(x))\n",
    "sent1=df[df[\"from_id\"].str.contains(\"319498185\")].copy()\n",
    "sent1['date'].value_counts().sort_values(ascending=False).head(5).plot.bar()\n",
    "\n",
    "plt.xlabel('date')\n",
    "plt.ylabel('messages count')"
   ]
  },
  {
   "cell_type": "code",
   "execution_count": 98,
   "id": "5f72c0a7",
   "metadata": {},
   "outputs": [
    {
     "data": {
      "text/plain": [
       "Text(0, 0.5, 'messages count')"
      ]
     },
     "execution_count": 98,
     "metadata": {},
     "output_type": "execute_result"
    },
    {
     "data": {
      "image/png": "[encoded data removed]",
      "text/plain": [
       "<Figure size 432x288 with 1 Axes>"
      ]
     },
     "metadata": {
      "needs_background": "light"
     },
     "output_type": "display_data"
    }
   ],
   "source": [
    "sent1['date'].value_counts().sort_values().head(5).plot.bar()\n",
    "\n",
    "plt.xlabel('date')\n",
    "plt.ylabel('messages count')"
   ]
  },
  {
   "cell_type": "markdown",
   "id": "fdf6a72c",
   "metadata": {},
   "source": [
    "### 13. Top-10 long messages (have most words) sent by me with dates."
   ]
  },
  {
   "cell_type": "code",
   "execution_count": 144,
   "id": "67306208",
   "metadata": {},
   "outputs": [],
   "source": [
    "def msg(data):\n",
    "    data.message = data.message.fillna('')\n",
    "    data['len'] = data['message'].apply(lambda x: len(x)) ## the length of the message\n",
    "    data['wcount'] = data['message'].apply(lambda x: len(x.split(' '))) ## word count in a message\n",
    "    data['wlen'] = data['message'].apply(lambda x: [len(word) for word in x.split(' ')]) ##word length\n",
    "    data = data.set_index('date')\n",
    "    data.head()\n",
    "    return data"
   ]
  },
  {
   "cell_type": "code",
   "execution_count": 145,
   "id": "72bc7995",
   "metadata": {},
   "outputs": [],
   "source": [
    "data1 = msg(df)"
   ]
  },
  {
   "cell_type": "code",
   "execution_count": 128,
   "id": "15aa2d63",
   "metadata": {},
   "outputs": [
    {
     "data": {
      "text/html": [
       "<div>\n",
       "<style scoped>\n",
       "    .dataframe tbody tr th:only-of-type {\n",
       "        vertical-align: middle;\n",
       "    }\n",
       "\n",
       "    .dataframe tbody tr th {\n",
       "        vertical-align: top;\n",
       "    }\n",
       "\n",
       "    .dataframe thead th {\n",
       "        text-align: right;\n",
       "    }\n",
       "</style>\n",
       "<table border=\"1\" class=\"dataframe\">\n",
       "  <thead>\n",
       "    <tr style=\"text-align: right;\">\n",
       "      <th></th>\n",
       "      <th>id</th>\n",
       "      <th>from_id</th>\n",
       "      <th>to_id</th>\n",
       "      <th>fwd_from</th>\n",
       "      <th>message</th>\n",
       "      <th>type</th>\n",
       "      <th>duration</th>\n",
       "      <th>dialog_id</th>\n",
       "      <th>month</th>\n",
       "      <th>day</th>\n",
       "      <th>hour</th>\n",
       "      <th>minute</th>\n",
       "      <th>second</th>\n",
       "      <th>year</th>\n",
       "      <th>len</th>\n",
       "      <th>wcount</th>\n",
       "      <th>wlen</th>\n",
       "    </tr>\n",
       "    <tr>\n",
       "      <th>date</th>\n",
       "      <th></th>\n",
       "      <th></th>\n",
       "      <th></th>\n",
       "      <th></th>\n",
       "      <th></th>\n",
       "      <th></th>\n",
       "      <th></th>\n",
       "      <th></th>\n",
       "      <th></th>\n",
       "      <th></th>\n",
       "      <th></th>\n",
       "      <th></th>\n",
       "      <th></th>\n",
       "      <th></th>\n",
       "      <th></th>\n",
       "      <th></th>\n",
       "      <th></th>\n",
       "    </tr>\n",
       "  </thead>\n",
       "  <tbody>\n",
       "    <tr>\n",
       "      <th>2022-02-22</th>\n",
       "      <td>896</td>\n",
       "      <td>nan</td>\n",
       "      <td>PeerChannel(channel_id=1121077046)</td>\n",
       "      <td>NaN</td>\n",
       "      <td></td>\n",
       "      <td>text</td>\n",
       "      <td>NaN</td>\n",
       "      <td>-1001121077046</td>\n",
       "      <td>2</td>\n",
       "      <td>22</td>\n",
       "      <td>13</td>\n",
       "      <td>10</td>\n",
       "      <td>49</td>\n",
       "      <td>2022</td>\n",
       "      <td>0</td>\n",
       "      <td>1</td>\n",
       "      <td>[0]</td>\n",
       "    </tr>\n",
       "    <tr>\n",
       "      <th>2022-02-22</th>\n",
       "      <td>895</td>\n",
       "      <td>nan</td>\n",
       "      <td>PeerChannel(channel_id=1121077046)</td>\n",
       "      <td>NaN</td>\n",
       "      <td>​​Твоя тривога має місце бути.\\n\\nМи справді н...</td>\n",
       "      <td>photo</td>\n",
       "      <td>NaN</td>\n",
       "      <td>-1001121077046</td>\n",
       "      <td>2</td>\n",
       "      <td>22</td>\n",
       "      <td>13</td>\n",
       "      <td>10</td>\n",
       "      <td>41</td>\n",
       "      <td>2022</td>\n",
       "      <td>683</td>\n",
       "      <td>94</td>\n",
       "      <td>[6, 7, 3, 5, 9, 7, 2, 1, 9, 9, 11, 1, 5, 8, 10...</td>\n",
       "    </tr>\n",
       "  </tbody>\n",
       "</table>\n",
       "</div>"
      ],
      "text/plain": [
       "             id from_id                               to_id fwd_from  \\\n",
       "date                                                                   \n",
       "2022-02-22  896     nan  PeerChannel(channel_id=1121077046)      NaN   \n",
       "2022-02-22  895     nan  PeerChannel(channel_id=1121077046)      NaN   \n",
       "\n",
       "                                                      message   type  \\\n",
       "date                                                                   \n",
       "2022-02-22                                                      text   \n",
       "2022-02-22  ​​Твоя тривога має місце бути.\\n\\nМи справді н...  photo   \n",
       "\n",
       "            duration      dialog_id  month  day  hour  minute  second  year  \\\n",
       "date                                                                          \n",
       "2022-02-22       NaN -1001121077046      2   22    13      10      49  2022   \n",
       "2022-02-22       NaN -1001121077046      2   22    13      10      41  2022   \n",
       "\n",
       "            len  wcount                                               wlen  \n",
       "date                                                                        \n",
       "2022-02-22    0       1                                                [0]  \n",
       "2022-02-22  683      94  [6, 7, 3, 5, 9, 7, 2, 1, 9, 9, 11, 1, 5, 8, 10...  "
      ]
     },
     "execution_count": 128,
     "metadata": {},
     "output_type": "execute_result"
    }
   ],
   "source": [
    "data1.head(2)"
   ]
  },
  {
   "cell_type": "code",
   "execution_count": 146,
   "id": "223e4a92",
   "metadata": {},
   "outputs": [],
   "source": [
    "data1['from_id']=data1['from_id'].apply(lambda x: str(x))\n",
    "sent2=data1[data1[\"from_id\"].str.contains(\"\")].copy()"
   ]
  },
  {
   "cell_type": "code",
   "execution_count": 147,
   "id": "1b39565b",
   "metadata": {},
   "outputs": [
    {
     "data": {
      "text/html": [
       "<div>\n",
       "<style scoped>\n",
       "    .dataframe tbody tr th:only-of-type {\n",
       "        vertical-align: middle;\n",
       "    }\n",
       "\n",
       "    .dataframe tbody tr th {\n",
       "        vertical-align: top;\n",
       "    }\n",
       "\n",
       "    .dataframe thead th {\n",
       "        text-align: right;\n",
       "    }\n",
       "</style>\n",
       "<table border=\"1\" class=\"dataframe\">\n",
       "  <thead>\n",
       "    <tr style=\"text-align: right;\">\n",
       "      <th></th>\n",
       "      <th>message</th>\n",
       "      <th>wcount</th>\n",
       "    </tr>\n",
       "    <tr>\n",
       "      <th>date</th>\n",
       "      <th></th>\n",
       "      <th></th>\n",
       "    </tr>\n",
       "  </thead>\n",
       "  <tbody>\n",
       "    <tr>\n",
       "      <th>2021-05-28 09:10:08+00:00</th>\n",
       "      <td>boolean b = Faculty.check(s);\\n            whi...</td>\n",
       "      <td>1795</td>\n",
       "    </tr>\n",
       "    <tr>\n",
       "      <th>2021-05-27 22:57:10+00:00</th>\n",
       "      <td>if (students[j].getPib().charAt(0) &lt; min) {\\n ...</td>\n",
       "      <td>1627</td>\n",
       "    </tr>\n",
       "    <tr>\n",
       "      <th>2021-05-27 22:40:11+00:00</th>\n",
       "      <td>if (students[j].getPib().charAt(0) &lt; min) {\\n ...</td>\n",
       "      <td>1627</td>\n",
       "    </tr>\n",
       "    <tr>\n",
       "      <th>2021-05-28 09:10:08+00:00</th>\n",
       "      <td>public static void sixthS() {\\n          int c...</td>\n",
       "      <td>1613</td>\n",
       "    </tr>\n",
       "    <tr>\n",
       "      <th>2021-05-28 08:43:44+00:00</th>\n",
       "      <td>public static void sixth() {\\n          int ch...</td>\n",
       "      <td>1613</td>\n",
       "    </tr>\n",
       "    <tr>\n",
       "      <th>2021-05-28 09:58:21+00:00</th>\n",
       "      <td>public static void sixthS() {\\n          int c...</td>\n",
       "      <td>1613</td>\n",
       "    </tr>\n",
       "    <tr>\n",
       "      <th>2021-03-11 00:07:55+00:00</th>\n",
       "      <td>import stanford.karel.*;\\n\\npublic class Task2...</td>\n",
       "      <td>1603</td>\n",
       "    </tr>\n",
       "    <tr>\n",
       "      <th>2021-04-22 19:11:05+00:00</th>\n",
       "      <td>case 3:\\n      add(third(bW * 0.625, bH * 1.5,...</td>\n",
       "      <td>1486</td>\n",
       "    </tr>\n",
       "    <tr>\n",
       "      <th>2021-05-27 21:02:49+00:00</th>\n",
       "      <td>}\\n                        }\\n                ...</td>\n",
       "      <td>1468</td>\n",
       "    </tr>\n",
       "    <tr>\n",
       "      <th>2021-05-27 12:28:03+00:00</th>\n",
       "      <td>import java.io.IOException;\\n\\npublic class Te...</td>\n",
       "      <td>1400</td>\n",
       "    </tr>\n",
       "  </tbody>\n",
       "</table>\n",
       "</div>"
      ],
      "text/plain": [
       "                                                                     message  \\\n",
       "date                                                                           \n",
       "2021-05-28 09:10:08+00:00  boolean b = Faculty.check(s);\\n            whi...   \n",
       "2021-05-27 22:57:10+00:00  if (students[j].getPib().charAt(0) < min) {\\n ...   \n",
       "2021-05-27 22:40:11+00:00  if (students[j].getPib().charAt(0) < min) {\\n ...   \n",
       "2021-05-28 09:10:08+00:00  public static void sixthS() {\\n          int c...   \n",
       "2021-05-28 08:43:44+00:00  public static void sixth() {\\n          int ch...   \n",
       "2021-05-28 09:58:21+00:00  public static void sixthS() {\\n          int c...   \n",
       "2021-03-11 00:07:55+00:00  import stanford.karel.*;\\n\\npublic class Task2...   \n",
       "2021-04-22 19:11:05+00:00  case 3:\\n      add(third(bW * 0.625, bH * 1.5,...   \n",
       "2021-05-27 21:02:49+00:00  }\\n                        }\\n                ...   \n",
       "2021-05-27 12:28:03+00:00  import java.io.IOException;\\n\\npublic class Te...   \n",
       "\n",
       "                           wcount  \n",
       "date                               \n",
       "2021-05-28 09:10:08+00:00    1795  \n",
       "2021-05-27 22:57:10+00:00    1627  \n",
       "2021-05-27 22:40:11+00:00    1627  \n",
       "2021-05-28 09:10:08+00:00    1613  \n",
       "2021-05-28 08:43:44+00:00    1613  \n",
       "2021-05-28 09:58:21+00:00    1613  \n",
       "2021-03-11 00:07:55+00:00    1603  \n",
       "2021-04-22 19:11:05+00:00    1486  \n",
       "2021-05-27 21:02:49+00:00    1468  \n",
       "2021-05-27 12:28:03+00:00    1400  "
      ]
     },
     "execution_count": 147,
     "metadata": {},
     "output_type": "execute_result"
    }
   ],
   "source": [
    "top5wc = sent2[['message', 'wcount']].copy()\n",
    "top5wc = top5wc.sort_values(by=\"wcount\",ascending=False)\n",
    "\n",
    "top5wc.head(10)"
   ]
  },
  {
   "cell_type": "markdown",
   "id": "cdf1c8ac",
   "metadata": {},
   "source": [
    "### 14. Top-10 long \"words\" used in messages by me."
   ]
  },
  {
   "cell_type": "code",
   "execution_count": 148,
   "id": "c8b02c0d",
   "metadata": {},
   "outputs": [
    {
     "data": {
      "text/html": [
       "<div>\n",
       "<style scoped>\n",
       "    .dataframe tbody tr th:only-of-type {\n",
       "        vertical-align: middle;\n",
       "    }\n",
       "\n",
       "    .dataframe tbody tr th {\n",
       "        vertical-align: top;\n",
       "    }\n",
       "\n",
       "    .dataframe thead th {\n",
       "        text-align: right;\n",
       "    }\n",
       "</style>\n",
       "<table border=\"1\" class=\"dataframe\">\n",
       "  <thead>\n",
       "    <tr style=\"text-align: right;\">\n",
       "      <th></th>\n",
       "      <th>message</th>\n",
       "      <th>wlen</th>\n",
       "    </tr>\n",
       "    <tr>\n",
       "      <th>date</th>\n",
       "      <th></th>\n",
       "      <th></th>\n",
       "    </tr>\n",
       "  </thead>\n",
       "  <tbody>\n",
       "    <tr>\n",
       "      <th>2021-05-16 20:42:26+00:00</th>\n",
       "      <td>ilyilyilyilyilyilyilyilyilyilyilyilyilyilyilyi...</td>\n",
       "      <td>[4096]</td>\n",
       "    </tr>\n",
       "    <tr>\n",
       "      <th>2021-05-16 20:41:56+00:00</th>\n",
       "      <td>ilyilyilyilyilyilyilyilyilyilyilyilyilyilyilyi...</td>\n",
       "      <td>[1728]</td>\n",
       "    </tr>\n",
       "    <tr>\n",
       "      <th>2021-05-16 20:42:26+00:00</th>\n",
       "      <td>yilyilyilyilyilyilyilyilyilyilyilyilyilyilyily...</td>\n",
       "      <td>[1087]</td>\n",
       "    </tr>\n",
       "    <tr>\n",
       "      <th>2022-02-10 19:35:52+00:00</th>\n",
       "      <td>((((((((((((((((((((((((((((((((((((((((((((((...</td>\n",
       "      <td>[1011]</td>\n",
       "    </tr>\n",
       "    <tr>\n",
       "      <th>2022-02-10 19:36:19+00:00</th>\n",
       "      <td>((((((((((((((((((((((((((((((((((((((((((((((...</td>\n",
       "      <td>[1011]</td>\n",
       "    </tr>\n",
       "    <tr>\n",
       "      <th>2021-06-10 13:35:06+00:00</th>\n",
       "      <td>https://www.booking.com/hotel/ua/premium-hoste...</td>\n",
       "      <td>[981]</td>\n",
       "    </tr>\n",
       "    <tr>\n",
       "      <th>2022-02-07 10:11:26+00:00</th>\n",
       "      <td>https://www.booking.com/hotel/ua/kvartira-podo...</td>\n",
       "      <td>[826]</td>\n",
       "    </tr>\n",
       "    <tr>\n",
       "      <th>2021-06-10 14:18:22+00:00</th>\n",
       "      <td>https://www.booking.com/hotel/ua/kryva-lypa.uk...</td>\n",
       "      <td>[796]</td>\n",
       "    </tr>\n",
       "    <tr>\n",
       "      <th>2021-06-10 13:42:38+00:00</th>\n",
       "      <td>https://www.booking.com/hotel/ua/kryva-lypa.uk...</td>\n",
       "      <td>[796]</td>\n",
       "    </tr>\n",
       "    <tr>\n",
       "      <th>2021-06-08 08:12:06+00:00</th>\n",
       "      <td>https://www.booking.com/hotel/ua/kryva-lypa.ru...</td>\n",
       "      <td>[795]</td>\n",
       "    </tr>\n",
       "  </tbody>\n",
       "</table>\n",
       "</div>"
      ],
      "text/plain": [
       "                                                                     message  \\\n",
       "date                                                                           \n",
       "2021-05-16 20:42:26+00:00  ilyilyilyilyilyilyilyilyilyilyilyilyilyilyilyi...   \n",
       "2021-05-16 20:41:56+00:00  ilyilyilyilyilyilyilyilyilyilyilyilyilyilyilyi...   \n",
       "2021-05-16 20:42:26+00:00  yilyilyilyilyilyilyilyilyilyilyilyilyilyilyily...   \n",
       "2022-02-10 19:35:52+00:00  ((((((((((((((((((((((((((((((((((((((((((((((...   \n",
       "2022-02-10 19:36:19+00:00  ((((((((((((((((((((((((((((((((((((((((((((((...   \n",
       "2021-06-10 13:35:06+00:00  https://www.booking.com/hotel/ua/premium-hoste...   \n",
       "2022-02-07 10:11:26+00:00  https://www.booking.com/hotel/ua/kvartira-podo...   \n",
       "2021-06-10 14:18:22+00:00  https://www.booking.com/hotel/ua/kryva-lypa.uk...   \n",
       "2021-06-10 13:42:38+00:00  https://www.booking.com/hotel/ua/kryva-lypa.uk...   \n",
       "2021-06-08 08:12:06+00:00  https://www.booking.com/hotel/ua/kryva-lypa.ru...   \n",
       "\n",
       "                             wlen  \n",
       "date                               \n",
       "2021-05-16 20:42:26+00:00  [4096]  \n",
       "2021-05-16 20:41:56+00:00  [1728]  \n",
       "2021-05-16 20:42:26+00:00  [1087]  \n",
       "2022-02-10 19:35:52+00:00  [1011]  \n",
       "2022-02-10 19:36:19+00:00  [1011]  \n",
       "2021-06-10 13:35:06+00:00   [981]  \n",
       "2022-02-07 10:11:26+00:00   [826]  \n",
       "2021-06-10 14:18:22+00:00   [796]  \n",
       "2021-06-10 13:42:38+00:00   [796]  \n",
       "2021-06-08 08:12:06+00:00   [795]  "
      ]
     },
     "execution_count": 148,
     "metadata": {},
     "output_type": "execute_result"
    }
   ],
   "source": [
    "top5lw = sent2[['message', 'wlen']].copy()\n",
    "top5lw = top5lw.sort_values(by=\"wlen\",ascending=False)\n",
    "top5lw.head(10)"
   ]
  },
  {
   "cell_type": "markdown",
   "id": "41ea302d",
   "metadata": {},
   "source": [
    "Mostly these are links or \"impulsive\" messages."
   ]
  },
  {
   "cell_type": "markdown",
   "id": "0ccf1c30",
   "metadata": {},
   "source": [
    "### 15. When do I type the most? Words/per hour in a day. +"
   ]
  },
  {
   "cell_type": "code",
   "execution_count": 149,
   "id": "2d1c037f",
   "metadata": {},
   "outputs": [
    {
     "data": {
      "image/png": "[encoded data removed]",
      "text/plain": [
       "<Figure size 432x288 with 1 Axes>"
      ]
     },
     "metadata": {
      "needs_background": "light"
     },
     "output_type": "display_data"
    }
   ],
   "source": [
    "wd = sent2.groupby('hour').sum()\n",
    "ax = sns.barplot(y='wcount', x=wd.index, palette = 'pastel', data=wd).set_title('When do I send most words');"
   ]
  },
  {
   "cell_type": "markdown",
   "id": "44310ad1",
   "metadata": {},
   "source": [
    "### 17. How many Happy Birthday's I get and what are the languages?"
   ]
  },
  {
   "cell_type": "code",
   "execution_count": 180,
   "id": "776bb45e",
   "metadata": {},
   "outputs": [],
   "source": [
    "rt = rec[(rec[\"type\"]==\"text\")]\n",
    "hbeng1 = rt.message.str.contains('happy birthday').sum()\n",
    "hbeng2 = rt.message.str.contains('HAPPY BIRTHDAY').sum()\n",
    "hbeng = hbeng1 + hbeng2\n",
    "hbukr1 = rt.message.str.contains('з днем народження').sum()\n",
    "hbukr2 = rt.message.str.contains('З ДНЕМ НАРОДЖЕННЯ').sum()\n",
    "hbukr = hbukr1 + hbukr2\n",
    "hbru1 = rt.message.str.contains('с днем рождения').sum()\n",
    "hbru2 = rt.message.str.contains('С ДНЕМ РОЖДЕНИЯ').sum()\n",
    "hbru = hbru1 + hbru2"
   ]
  },
  {
   "cell_type": "code",
   "execution_count": 181,
   "id": "751446b5",
   "metadata": {},
   "outputs": [],
   "source": [
    "hb = [['eng', hbeng], ['ukr', hbukr], ['ru', hbru]]"
   ]
  },
  {
   "cell_type": "code",
   "execution_count": 183,
   "id": "ed7e0671",
   "metadata": {},
   "outputs": [],
   "source": [
    "hb = pd.DataFrame(hb, columns=['lang', 'number'])"
   ]
  },
  {
   "cell_type": "code",
   "execution_count": 184,
   "id": "b32eb31e",
   "metadata": {},
   "outputs": [
    {
     "data": {
      "text/html": [
       "<div>\n",
       "<style scoped>\n",
       "    .dataframe tbody tr th:only-of-type {\n",
       "        vertical-align: middle;\n",
       "    }\n",
       "\n",
       "    .dataframe tbody tr th {\n",
       "        vertical-align: top;\n",
       "    }\n",
       "\n",
       "    .dataframe thead th {\n",
       "        text-align: right;\n",
       "    }\n",
       "</style>\n",
       "<table border=\"1\" class=\"dataframe\">\n",
       "  <thead>\n",
       "    <tr style=\"text-align: right;\">\n",
       "      <th></th>\n",
       "      <th>lang</th>\n",
       "      <th>number</th>\n",
       "    </tr>\n",
       "  </thead>\n",
       "  <tbody>\n",
       "    <tr>\n",
       "      <th>0</th>\n",
       "      <td>eng</td>\n",
       "      <td>14</td>\n",
       "    </tr>\n",
       "    <tr>\n",
       "      <th>1</th>\n",
       "      <td>ukr</td>\n",
       "      <td>5</td>\n",
       "    </tr>\n",
       "    <tr>\n",
       "      <th>2</th>\n",
       "      <td>ru</td>\n",
       "      <td>7</td>\n",
       "    </tr>\n",
       "  </tbody>\n",
       "</table>\n",
       "</div>"
      ],
      "text/plain": [
       "  lang  number\n",
       "0  eng      14\n",
       "1  ukr       5\n",
       "2   ru       7"
      ]
     },
     "execution_count": 184,
     "metadata": {},
     "output_type": "execute_result"
    }
   ],
   "source": [
    "hb"
   ]
  },
  {
   "cell_type": "code",
   "execution_count": 188,
   "id": "b53e4b87",
   "metadata": {},
   "outputs": [
    {
     "data": {
      "image/png": "[encoded data removed]",
      "text/plain": [
       "<Figure size 432x288 with 1 Axes>"
      ]
     },
     "metadata": {},
     "output_type": "display_data"
    }
   ],
   "source": [
    "ax = hb.plot.pie(y=\"number\", colors = colors, labels=hb.iloc[:,0], startangle=90, pctdistance=0.85)\n",
    "ax.legend(bbox_to_anchor=(1.02, 1), loc='lower left', borderaxespad=0)\n",
    "plt.gca().axes.get_yaxis().set_visible(False)\n",
    "plt.show()"
   ]
  },
  {
   "cell_type": "markdown",
   "id": "95305c1d",
   "metadata": {},
   "source": [
    "### 18. Top-10 most used emojis? +"
   ]
  },
  {
   "cell_type": "code",
   "execution_count": 102,
   "id": "640a5d8c",
   "metadata": {},
   "outputs": [],
   "source": [
    "import emoji\n",
    "from emoji import UNICODE_EMOJI"
   ]
  },
  {
   "cell_type": "code",
   "execution_count": 103,
   "id": "bb3f5726",
   "metadata": {},
   "outputs": [],
   "source": [
    "def emojis(e):\n",
    "    return ''.join(c for c in e if c in emoji.UNICODE_EMOJI['en'])"
   ]
  },
  {
   "cell_type": "code",
   "execution_count": 204,
   "id": "22c8b067",
   "metadata": {},
   "outputs": [],
   "source": [
    "data.message = data.message.fillna('')\n",
    "data['emoji'] = data.message.apply(lambda x: emojis(x))"
   ]
  },
  {
   "cell_type": "code",
   "execution_count": 208,
   "id": "3410bc14",
   "metadata": {},
   "outputs": [
    {
     "data": {
      "text/html": [
       "<div>\n",
       "<style scoped>\n",
       "    .dataframe tbody tr th:only-of-type {\n",
       "        vertical-align: middle;\n",
       "    }\n",
       "\n",
       "    .dataframe tbody tr th {\n",
       "        vertical-align: top;\n",
       "    }\n",
       "\n",
       "    .dataframe thead th {\n",
       "        text-align: right;\n",
       "    }\n",
       "</style>\n",
       "<table border=\"1\" class=\"dataframe\">\n",
       "  <thead>\n",
       "    <tr style=\"text-align: right;\">\n",
       "      <th></th>\n",
       "      <th>index</th>\n",
       "      <th>count</th>\n",
       "    </tr>\n",
       "  </thead>\n",
       "  <tbody>\n",
       "    <tr>\n",
       "      <th>81</th>\n",
       "      <td>😭</td>\n",
       "      <td>40539</td>\n",
       "    </tr>\n",
       "    <tr>\n",
       "      <th>137</th>\n",
       "      <td>😂</td>\n",
       "      <td>22828</td>\n",
       "    </tr>\n",
       "    <tr>\n",
       "      <th>89</th>\n",
       "      <td>🥺</td>\n",
       "      <td>11399</td>\n",
       "    </tr>\n",
       "    <tr>\n",
       "      <th>104</th>\n",
       "      <td>😔</td>\n",
       "      <td>7882</td>\n",
       "    </tr>\n",
       "    <tr>\n",
       "      <th>33</th>\n",
       "      <td>❤</td>\n",
       "      <td>7191</td>\n",
       "    </tr>\n",
       "    <tr>\n",
       "      <th>106</th>\n",
       "      <td>😳</td>\n",
       "      <td>4531</td>\n",
       "    </tr>\n",
       "    <tr>\n",
       "      <th>10</th>\n",
       "      <td>😍</td>\n",
       "      <td>4143</td>\n",
       "    </tr>\n",
       "    <tr>\n",
       "      <th>189</th>\n",
       "      <td>🤣</td>\n",
       "      <td>4039</td>\n",
       "    </tr>\n",
       "    <tr>\n",
       "      <th>160</th>\n",
       "      <td>🤡</td>\n",
       "      <td>3536</td>\n",
       "    </tr>\n",
       "    <tr>\n",
       "      <th>52</th>\n",
       "      <td>👍</td>\n",
       "      <td>3036</td>\n",
       "    </tr>\n",
       "  </tbody>\n",
       "</table>\n",
       "</div>"
      ],
      "text/plain": [
       "    index  count\n",
       "81      😭  40539\n",
       "137     😂  22828\n",
       "89      🥺  11399\n",
       "104     😔   7882\n",
       "33      ❤   7191\n",
       "106     😳   4531\n",
       "10      😍   4143\n",
       "189     🤣   4039\n",
       "160     🤡   3536\n",
       "52      👍   3036"
      ]
     },
     "execution_count": 208,
     "metadata": {},
     "output_type": "execute_result"
    }
   ],
   "source": [
    "emojis_list = list([a for b in data.emoji for a in b])\n",
    "emojis = Counter(emojis_list)\n",
    "es = pd.DataFrame.from_dict(emojis, orient=\"index\").reset_index()\n",
    "es.columns.values[1] = \"count\"\n",
    "es = es.sort_values(by=\"count\",ascending=False)\n",
    "\n",
    "es.head(10)"
   ]
  },
  {
   "cell_type": "code",
   "execution_count": 212,
   "id": "bc60c8f3",
   "metadata": {},
   "outputs": [],
   "source": [
    "toptene = es.head(10)"
   ]
  },
  {
   "cell_type": "code",
   "execution_count": 216,
   "id": "790b39b7",
   "metadata": {},
   "outputs": [
    {
     "data": {
      "image/png": "[encoded data removed]",
      "text/plain": [
       "<Figure size 504x504 with 1 Axes>"
      ]
     },
     "metadata": {},
     "output_type": "display_data"
    }
   ],
   "source": [
    "plot = toptene.plot.pie(y='count', labels = toptene.iloc[:,0], figsize=(7, 7))\n",
    "plt.legend(bbox_to_anchor=(1.02, 1), loc='upper left', borderaxespad=0)\n",
    "plt.show()"
   ]
  },
  {
   "cell_type": "markdown",
   "id": "77f27f04",
   "metadata": {},
   "source": [
    "### 19. Total number of used emojis?"
   ]
  },
  {
   "cell_type": "code",
   "execution_count": 219,
   "id": "5192091e",
   "metadata": {},
   "outputs": [
    {
     "data": {
      "text/plain": [
       "986"
      ]
     },
     "execution_count": 219,
     "metadata": {},
     "output_type": "execute_result"
    }
   ],
   "source": [
    "len(es)"
   ]
  },
  {
   "cell_type": "markdown",
   "id": "3a70de26",
   "metadata": {},
   "source": [
    "### 20. Total number of unique words?"
   ]
  },
  {
   "cell_type": "code",
   "execution_count": 220,
   "id": "1775724e",
   "metadata": {},
   "outputs": [
    {
     "data": {
      "text/plain": [
       "437162"
      ]
     },
     "execution_count": 220,
     "metadata": {},
     "output_type": "execute_result"
    }
   ],
   "source": [
    "len(words)"
   ]
  },
  {
   "cell_type": "markdown",
   "id": "5e8117de",
   "metadata": {},
   "source": [
    "### 21. Number of sent messages depending on the weekday"
   ]
  },
  {
   "cell_type": "code",
   "execution_count": 172,
   "id": "c5124b58",
   "metadata": {},
   "outputs": [],
   "source": [
    "df['from_id']=df['from_id'].apply(lambda x: str(x))\n",
    "sent=df[df[\"from_id\"].str.contains(\"\")].copy()"
   ]
  },
  {
   "cell_type": "code",
   "execution_count": 177,
   "id": "a7fbe91b",
   "metadata": {},
   "outputs": [],
   "source": [
    "def f(i):\n",
    " l = [\"Monday\", \"Tuesday\", \"Wednesday\", \"Thursday\", \"Friday\", \"Saturday\", \"Sunday\"]\n",
    " return l[i];"
   ]
  },
  {
   "cell_type": "code",
   "execution_count": 195,
   "id": "df7e53c0",
   "metadata": {},
   "outputs": [],
   "source": [
    "dayd=pd.DataFrame(sent[\"message\"])\n",
    "dayd['day_of_date'] = sent['date'].dt.weekday\n",
    "dayd['day_of_date'] = dayd[\"day_of_date\"].apply(f)\n",
    "dayd[\"messagecount\"] = 1"
   ]
  },
  {
   "cell_type": "code",
   "execution_count": 196,
   "id": "65bd4fce",
   "metadata": {},
   "outputs": [
    {
     "data": {
      "text/html": [
       "<div>\n",
       "<style scoped>\n",
       "    .dataframe tbody tr th:only-of-type {\n",
       "        vertical-align: middle;\n",
       "    }\n",
       "\n",
       "    .dataframe tbody tr th {\n",
       "        vertical-align: top;\n",
       "    }\n",
       "\n",
       "    .dataframe thead th {\n",
       "        text-align: right;\n",
       "    }\n",
       "</style>\n",
       "<table border=\"1\" class=\"dataframe\">\n",
       "  <thead>\n",
       "    <tr style=\"text-align: right;\">\n",
       "      <th></th>\n",
       "      <th>message</th>\n",
       "      <th>day_of_date</th>\n",
       "      <th>messagecount</th>\n",
       "    </tr>\n",
       "  </thead>\n",
       "  <tbody>\n",
       "    <tr>\n",
       "      <th>742</th>\n",
       "      <td>скрін</td>\n",
       "      <td>Sunday</td>\n",
       "      <td>1</td>\n",
       "    </tr>\n",
       "    <tr>\n",
       "      <th>743</th>\n",
       "      <td>що хочуть</td>\n",
       "      <td>Sunday</td>\n",
       "      <td>1</td>\n",
       "    </tr>\n",
       "    <tr>\n",
       "      <th>744</th>\n",
       "      <td>фу</td>\n",
       "      <td>Sunday</td>\n",
       "      <td>1</td>\n",
       "    </tr>\n",
       "    <tr>\n",
       "      <th>750</th>\n",
       "      <td>ці люди навіть не підозрюють що я пиляла у Льв...</td>\n",
       "      <td>Sunday</td>\n",
       "      <td>1</td>\n",
       "    </tr>\n",
       "    <tr>\n",
       "      <th>751</th>\n",
       "      <td>ХАХАХАХА</td>\n",
       "      <td>Sunday</td>\n",
       "      <td>1</td>\n",
       "    </tr>\n",
       "    <tr>\n",
       "      <th>...</th>\n",
       "      <td>...</td>\n",
       "      <td>...</td>\n",
       "      <td>...</td>\n",
       "    </tr>\n",
       "    <tr>\n",
       "      <th>1183015</th>\n",
       "      <td>добре, дякую🥺</td>\n",
       "      <td>Wednesday</td>\n",
       "      <td>1</td>\n",
       "    </tr>\n",
       "    <tr>\n",
       "      <th>1183017</th>\n",
       "      <td>оці типу</td>\n",
       "      <td>Wednesday</td>\n",
       "      <td>1</td>\n",
       "    </tr>\n",
       "    <tr>\n",
       "      <th>1183018</th>\n",
       "      <td></td>\n",
       "      <td>Wednesday</td>\n",
       "      <td>1</td>\n",
       "    </tr>\n",
       "    <tr>\n",
       "      <th>1183019</th>\n",
       "      <td>та наче все ок, але щось туплю на третьому, 3-6</td>\n",
       "      <td>Wednesday</td>\n",
       "      <td>1</td>\n",
       "    </tr>\n",
       "    <tr>\n",
       "      <th>1183022</th>\n",
       "      <td>привіт:)\\nти вже робила самостійну з тамл?</td>\n",
       "      <td>Wednesday</td>\n",
       "      <td>1</td>\n",
       "    </tr>\n",
       "  </tbody>\n",
       "</table>\n",
       "<p>440311 rows × 3 columns</p>\n",
       "</div>"
      ],
      "text/plain": [
       "                                                   message day_of_date  \\\n",
       "742                                                  скрін      Sunday   \n",
       "743                                              що хочуть      Sunday   \n",
       "744                                                     фу      Sunday   \n",
       "750      ці люди навіть не підозрюють що я пиляла у Льв...      Sunday   \n",
       "751                                               ХАХАХАХА      Sunday   \n",
       "...                                                    ...         ...   \n",
       "1183015                                      добре, дякую🥺   Wednesday   \n",
       "1183017                                           оці типу   Wednesday   \n",
       "1183018                                                      Wednesday   \n",
       "1183019    та наче все ок, але щось туплю на третьому, 3-6   Wednesday   \n",
       "1183022         привіт:)\\nти вже робила самостійну з тамл?   Wednesday   \n",
       "\n",
       "         messagecount  \n",
       "742                 1  \n",
       "743                 1  \n",
       "744                 1  \n",
       "750                 1  \n",
       "751                 1  \n",
       "...               ...  \n",
       "1183015             1  \n",
       "1183017             1  \n",
       "1183018             1  \n",
       "1183019             1  \n",
       "1183022             1  \n",
       "\n",
       "[440311 rows x 3 columns]"
      ]
     },
     "execution_count": 196,
     "metadata": {},
     "output_type": "execute_result"
    }
   ],
   "source": [
    "dayd"
   ]
  },
  {
   "cell_type": "code",
   "execution_count": 197,
   "id": "b95ed1a9",
   "metadata": {},
   "outputs": [],
   "source": [
    "day = dayd.groupby(\"day_of_date\").sum()"
   ]
  },
  {
   "cell_type": "code",
   "execution_count": 198,
   "id": "40a41234",
   "metadata": {},
   "outputs": [
    {
     "data": {
      "text/html": [
       "<div>\n",
       "<style scoped>\n",
       "    .dataframe tbody tr th:only-of-type {\n",
       "        vertical-align: middle;\n",
       "    }\n",
       "\n",
       "    .dataframe tbody tr th {\n",
       "        vertical-align: top;\n",
       "    }\n",
       "\n",
       "    .dataframe thead th {\n",
       "        text-align: right;\n",
       "    }\n",
       "</style>\n",
       "<table border=\"1\" class=\"dataframe\">\n",
       "  <thead>\n",
       "    <tr style=\"text-align: right;\">\n",
       "      <th></th>\n",
       "      <th>messagecount</th>\n",
       "    </tr>\n",
       "    <tr>\n",
       "      <th>day_of_date</th>\n",
       "      <th></th>\n",
       "    </tr>\n",
       "  </thead>\n",
       "  <tbody>\n",
       "    <tr>\n",
       "      <th>Friday</th>\n",
       "      <td>61386</td>\n",
       "    </tr>\n",
       "    <tr>\n",
       "      <th>Monday</th>\n",
       "      <td>67423</td>\n",
       "    </tr>\n",
       "    <tr>\n",
       "      <th>Saturday</th>\n",
       "      <td>61234</td>\n",
       "    </tr>\n",
       "    <tr>\n",
       "      <th>Sunday</th>\n",
       "      <td>57530</td>\n",
       "    </tr>\n",
       "    <tr>\n",
       "      <th>Thursday</th>\n",
       "      <td>63468</td>\n",
       "    </tr>\n",
       "    <tr>\n",
       "      <th>Tuesday</th>\n",
       "      <td>65672</td>\n",
       "    </tr>\n",
       "    <tr>\n",
       "      <th>Wednesday</th>\n",
       "      <td>63598</td>\n",
       "    </tr>\n",
       "  </tbody>\n",
       "</table>\n",
       "</div>"
      ],
      "text/plain": [
       "             messagecount\n",
       "day_of_date              \n",
       "Friday              61386\n",
       "Monday              67423\n",
       "Saturday            61234\n",
       "Sunday              57530\n",
       "Thursday            63468\n",
       "Tuesday             65672\n",
       "Wednesday           63598"
      ]
     },
     "execution_count": 198,
     "metadata": {},
     "output_type": "execute_result"
    }
   ],
   "source": [
    "day"
   ]
  },
  {
   "cell_type": "code",
   "execution_count": 212,
   "id": "ed72f4ba",
   "metadata": {},
   "outputs": [
    {
     "data": {
      "image/png": "[encoded data removed]",
      "text/plain": [
       "<Figure size 432x288 with 1 Axes>"
      ]
     },
     "metadata": {},
     "output_type": "display_data"
    }
   ],
   "source": [
    "l = [\"Monday\", \"Tuesday\", \"Wednesday\", \"Thursday\", \"Friday\", \"Saturday\", \"Sunday\"]\n",
    "day.groupby('messagecount')\n",
    "ax = day.plot.pie(y=\"messagecount\", labels=l, startangle=90, pctdistance=0.85)\n",
    "ax.legend(bbox_to_anchor=(1.02, 1), loc='lower left', borderaxespad=0)\n",
    "plt.gca().axes.get_yaxis().set_visible(False)\n",
    "plt.show()"
   ]
  },
  {
   "cell_type": "code",
   "execution_count": 213,
   "id": "c56ebb37",
   "metadata": {},
   "outputs": [
    {
     "data": {
      "text/plain": [
       "[<matplotlib.lines.Line2D at 0x29cdaa607f0>]"
      ]
     },
     "execution_count": 213,
     "metadata": {},
     "output_type": "execute_result"
    },
    {
     "data": {
      "image/png": "[encoded data removed]",
      "text/plain": [
       "<Figure size 432x288 with 1 Axes>"
      ]
     },
     "metadata": {
      "needs_background": "light"
     },
     "output_type": "display_data"
    }
   ],
   "source": [
    "plt.plot(day)"
   ]
  },
  {
   "cell_type": "code",
   "execution_count": 179,
   "id": "0ec5f05b",
   "metadata": {},
   "outputs": [],
   "source": [
    "my_range=range(1, len(dayd.index)+1)"
   ]
  },
  {
   "cell_type": "code",
   "execution_count": 180,
   "id": "fec7659e",
   "metadata": {},
   "outputs": [
    {
     "data": {
      "text/plain": [
       "range(1, 440312)"
      ]
     },
     "execution_count": 180,
     "metadata": {},
     "output_type": "execute_result"
    }
   ],
   "source": [
    "my_range"
   ]
  },
  {
   "cell_type": "code",
   "execution_count": 194,
   "id": "cf249688",
   "metadata": {},
   "outputs": [
    {
     "data": {
      "application/vnd.plotly.v1+json": {
       "config": {
        "plotlyServerURL": "https://plot.ly"
       },
       "data": [
        {
         "hovertemplate": "messagecount=%{r}<br>day_of_date=%{theta}<extra></extra>",
         "legendgroup": "",
         "marker": {
          "color": "#636efa",
          "symbol": "circle"
         },
         "mode": "markers",
         "name": "",
         "r": [
          61386,
          67423,
          61234,
          57530,
          63468,
          65672,
          63598
         ],
         "showlegend": false,
         "subplot": "polar",
         "theta": [
          "Friday",
          "Monday",
          "Saturday",
          "Sunday",
          "Thursday",
          "Tuesday",
          "Wednesday"
         ],
         "type": "scatterpolar"
        }
       ],
       "layout": {
        "legend": {
         "tracegroupgap": 0
        },
        "margin": {
         "t": 60
        },
        "polar": {
         "angularaxis": {
          "direction": "clockwise",
          "rotation": 90
         },
         "domain": {
          "x": [
           0,
           1
          ],
          "y": [
           0,
           1
          ]
         },
         "radialaxis": {
          "visible": true
         }
        },
        "template": {
         "data": {
          "bar": [
           {
            "error_x": {
             "color": "#2a3f5f"
            },
            "error_y": {
             "color": "#2a3f5f"
            },
            "marker": {
             "line": {
              "color": "#E5ECF6",
              "width": 0.5
             },
             "pattern": {
              "fillmode": "overlay",
              "size": 10,
              "solidity": 0.2
             }
            },
            "type": "bar"
           }
          ],
          "barpolar": [
           {
            "marker": {
             "line": {
              "color": "#E5ECF6",
              "width": 0.5
             },
             "pattern": {
              "fillmode": "overlay",
              "size": 10,
              "solidity": 0.2
             }
            },
            "type": "barpolar"
           }
          ],
          "carpet": [
           {
            "aaxis": {
             "endlinecolor": "#2a3f5f",
             "gridcolor": "white",
             "linecolor": "white",
             "minorgridcolor": "white",
             "startlinecolor": "#2a3f5f"
            },
            "baxis": {
             "endlinecolor": "#2a3f5f",
             "gridcolor": "white",
             "linecolor": "white",
             "minorgridcolor": "white",
             "startlinecolor": "#2a3f5f"
            },
            "type": "carpet"
           }
          ],
          "choropleth": [
           {
            "colorbar": {
             "outlinewidth": 0,
             "ticks": ""
            },
            "type": "choropleth"
           }
          ],
          "contour": [
           {
            "colorbar": {
             "outlinewidth": 0,
             "ticks": ""
            },
            "colorscale": [
             [
              0,
              "#0d0887"
             ],
             [
              0.1111111111111111,
              "#46039f"
             ],
             [
              0.2222222222222222,
              "#7201a8"
             ],
             [
              0.3333333333333333,
              "#9c179e"
             ],
             [
              0.4444444444444444,
              "#bd3786"
             ],
             [
              0.5555555555555556,
              "#d8576b"
             ],
             [
              0.6666666666666666,
              "#ed7953"
             ],
             [
              0.7777777777777778,
              "#fb9f3a"
             ],
             [
              0.8888888888888888,
              "#fdca26"
             ],
             [
              1,
              "#f0f921"
             ]
            ],
            "type": "contour"
           }
          ],
          "contourcarpet": [
           {
            "colorbar": {
             "outlinewidth": 0,
             "ticks": ""
            },
            "type": "contourcarpet"
           }
          ],
          "heatmap": [
           {
            "colorbar": {
             "outlinewidth": 0,
             "ticks": ""
            },
            "colorscale": [
             [
              0,
              "#0d0887"
             ],
             [
              0.1111111111111111,
              "#46039f"
             ],
             [
              0.2222222222222222,
              "#7201a8"
             ],
             [
              0.3333333333333333,
              "#9c179e"
             ],
             [
              0.4444444444444444,
              "#bd3786"
             ],
             [
              0.5555555555555556,
              "#d8576b"
             ],
             [
              0.6666666666666666,
              "#ed7953"
             ],
             [
              0.7777777777777778,
              "#fb9f3a"
             ],
             [
              0.8888888888888888,
              "#fdca26"
             ],
             [
              1,
              "#f0f921"
             ]
            ],
            "type": "heatmap"
           }
          ],
          "heatmapgl": [
           {
            "colorbar": {
             "outlinewidth": 0,
             "ticks": ""
            },
            "colorscale": [
             [
              0,
              "#0d0887"
             ],
             [
              0.1111111111111111,
              "#46039f"
             ],
             [
              0.2222222222222222,
              "#7201a8"
             ],
             [
              0.3333333333333333,
              "#9c179e"
             ],
             [
              0.4444444444444444,
              "#bd3786"
             ],
             [
              0.5555555555555556,
              "#d8576b"
             ],
             [
              0.6666666666666666,
              "#ed7953"
             ],
             [
              0.7777777777777778,
              "#fb9f3a"
             ],
             [
              0.8888888888888888,
              "#fdca26"
             ],
             [
              1,
              "#f0f921"
             ]
            ],
            "type": "heatmapgl"
           }
          ],
          "histogram": [
           {
            "marker": {
             "pattern": {
              "fillmode": "overlay",
              "size": 10,
              "solidity": 0.2
             }
            },
            "type": "histogram"
           }
          ],
          "histogram2d": [
           {
            "colorbar": {
             "outlinewidth": 0,
             "ticks": ""
            },
            "colorscale": [
             [
              0,
              "#0d0887"
             ],
             [
              0.1111111111111111,
              "#46039f"
             ],
             [
              0.2222222222222222,
              "#7201a8"
             ],
             [
              0.3333333333333333,
              "#9c179e"
             ],
             [
              0.4444444444444444,
              "#bd3786"
             ],
             [
              0.5555555555555556,
              "#d8576b"
             ],
             [
              0.6666666666666666,
              "#ed7953"
             ],
             [
              0.7777777777777778,
              "#fb9f3a"
             ],
             [
              0.8888888888888888,
              "#fdca26"
             ],
             [
              1,
              "#f0f921"
             ]
            ],
            "type": "histogram2d"
           }
          ],
          "histogram2dcontour": [
           {
            "colorbar": {
             "outlinewidth": 0,
             "ticks": ""
            },
            "colorscale": [
             [
              0,
              "#0d0887"
             ],
             [
              0.1111111111111111,
              "#46039f"
             ],
             [
              0.2222222222222222,
              "#7201a8"
             ],
             [
              0.3333333333333333,
              "#9c179e"
             ],
             [
              0.4444444444444444,
              "#bd3786"
             ],
             [
              0.5555555555555556,
              "#d8576b"
             ],
             [
              0.6666666666666666,
              "#ed7953"
             ],
             [
              0.7777777777777778,
              "#fb9f3a"
             ],
             [
              0.8888888888888888,
              "#fdca26"
             ],
             [
              1,
              "#f0f921"
             ]
            ],
            "type": "histogram2dcontour"
           }
          ],
          "mesh3d": [
           {
            "colorbar": {
             "outlinewidth": 0,
             "ticks": ""
            },
            "type": "mesh3d"
           }
          ],
          "parcoords": [
           {
            "line": {
             "colorbar": {
              "outlinewidth": 0,
              "ticks": ""
             }
            },
            "type": "parcoords"
           }
          ],
          "pie": [
           {
            "automargin": true,
            "type": "pie"
           }
          ],
          "scatter": [
           {
            "fillpattern": {
             "fillmode": "overlay",
             "size": 10,
             "solidity": 0.2
            },
            "type": "scatter"
           }
          ],
          "scatter3d": [
           {
            "line": {
             "colorbar": {
              "outlinewidth": 0,
              "ticks": ""
             }
            },
            "marker": {
             "colorbar": {
              "outlinewidth": 0,
              "ticks": ""
             }
            },
            "type": "scatter3d"
           }
          ],
          "scattercarpet": [
           {
            "marker": {
             "colorbar": {
              "outlinewidth": 0,
              "ticks": ""
             }
            },
            "type": "scattercarpet"
           }
          ],
          "scattergeo": [
           {
            "marker": {
             "colorbar": {
              "outlinewidth": 0,
              "ticks": ""
             }
            },
            "type": "scattergeo"
           }
          ],
          "scattergl": [
           {
            "marker": {
             "colorbar": {
              "outlinewidth": 0,
              "ticks": ""
             }
            },
            "type": "scattergl"
           }
          ],
          "scattermapbox": [
           {
            "marker": {
             "colorbar": {
              "outlinewidth": 0,
              "ticks": ""
             }
            },
            "type": "scattermapbox"
           }
          ],
          "scatterpolar": [
           {
            "marker": {
             "colorbar": {
              "outlinewidth": 0,
              "ticks": ""
             }
            },
            "type": "scatterpolar"
           }
          ],
          "scatterpolargl": [
           {
            "marker": {
             "colorbar": {
              "outlinewidth": 0,
              "ticks": ""
             }
            },
            "type": "scatterpolargl"
           }
          ],
          "scatterternary": [
           {
            "marker": {
             "colorbar": {
              "outlinewidth": 0,
              "ticks": ""
             }
            },
            "type": "scatterternary"
           }
          ],
          "surface": [
           {
            "colorbar": {
             "outlinewidth": 0,
             "ticks": ""
            },
            "colorscale": [
             [
              0,
              "#0d0887"
             ],
             [
              0.1111111111111111,
              "#46039f"
             ],
             [
              0.2222222222222222,
              "#7201a8"
             ],
             [
              0.3333333333333333,
              "#9c179e"
             ],
             [
              0.4444444444444444,
              "#bd3786"
             ],
             [
              0.5555555555555556,
              "#d8576b"
             ],
             [
              0.6666666666666666,
              "#ed7953"
             ],
             [
              0.7777777777777778,
              "#fb9f3a"
             ],
             [
              0.8888888888888888,
              "#fdca26"
             ],
             [
              1,
              "#f0f921"
             ]
            ],
            "type": "surface"
           }
          ],
          "table": [
           {
            "cells": {
             "fill": {
              "color": "#EBF0F8"
             },
             "line": {
              "color": "white"
             }
            },
            "header": {
             "fill": {
              "color": "#C8D4E3"
             },
             "line": {
              "color": "white"
             }
            },
            "type": "table"
           }
          ]
         },
         "layout": {
          "annotationdefaults": {
           "arrowcolor": "#2a3f5f",
           "arrowhead": 0,
           "arrowwidth": 1
          },
          "autotypenumbers": "strict",
          "coloraxis": {
           "colorbar": {
            "outlinewidth": 0,
            "ticks": ""
           }
          },
          "colorscale": {
           "diverging": [
            [
             0,
             "#8e0152"
            ],
            [
             0.1,
             "#c51b7d"
            ],
            [
             0.2,
             "#de77ae"
            ],
            [
             0.3,
             "#f1b6da"
            ],
            [
             0.4,
             "#fde0ef"
            ],
            [
             0.5,
             "#f7f7f7"
            ],
            [
             0.6,
             "#e6f5d0"
            ],
            [
             0.7,
             "#b8e186"
            ],
            [
             0.8,
             "#7fbc41"
            ],
            [
             0.9,
             "#4d9221"
            ],
            [
             1,
             "#276419"
            ]
           ],
           "sequential": [
            [
             0,
             "#0d0887"
            ],
            [
             0.1111111111111111,
             "#46039f"
            ],
            [
             0.2222222222222222,
             "#7201a8"
            ],
            [
             0.3333333333333333,
             "#9c179e"
            ],
            [
             0.4444444444444444,
             "#bd3786"
            ],
            [
             0.5555555555555556,
             "#d8576b"
            ],
            [
             0.6666666666666666,
             "#ed7953"
            ],
            [
             0.7777777777777778,
             "#fb9f3a"
            ],
            [
             0.8888888888888888,
             "#fdca26"
            ],
            [
             1,
             "#f0f921"
            ]
           ],
           "sequentialminus": [
            [
             0,
             "#0d0887"
            ],
            [
             0.1111111111111111,
             "#46039f"
            ],
            [
             0.2222222222222222,
             "#7201a8"
            ],
            [
             0.3333333333333333,
             "#9c179e"
            ],
            [
             0.4444444444444444,
             "#bd3786"
            ],
            [
             0.5555555555555556,
             "#d8576b"
            ],
            [
             0.6666666666666666,
             "#ed7953"
            ],
            [
             0.7777777777777778,
             "#fb9f3a"
            ],
            [
             0.8888888888888888,
             "#fdca26"
            ],
            [
             1,
             "#f0f921"
            ]
           ]
          },
          "colorway": [
           "#636efa",
           "#EF553B",
           "#00cc96",
           "#ab63fa",
           "#FFA15A",
           "#19d3f3",
           "#FF6692",
           "#B6E880",
           "#FF97FF",
           "#FECB52"
          ],
          "font": {
           "color": "#2a3f5f"
          },
          "geo": {
           "bgcolor": "white",
           "lakecolor": "white",
           "landcolor": "#E5ECF6",
           "showlakes": true,
           "showland": true,
           "subunitcolor": "white"
          },
          "hoverlabel": {
           "align": "left"
          },
          "hovermode": "closest",
          "mapbox": {
           "style": "light"
          },
          "paper_bgcolor": "white",
          "plot_bgcolor": "#E5ECF6",
          "polar": {
           "angularaxis": {
            "gridcolor": "white",
            "linecolor": "white",
            "ticks": ""
           },
           "bgcolor": "#E5ECF6",
           "radialaxis": {
            "gridcolor": "white",
            "linecolor": "white",
            "ticks": ""
           }
          },
          "scene": {
           "xaxis": {
            "backgroundcolor": "#E5ECF6",
            "gridcolor": "white",
            "gridwidth": 2,
            "linecolor": "white",
            "showbackground": true,
            "ticks": "",
            "zerolinecolor": "white"
           },
           "yaxis": {
            "backgroundcolor": "#E5ECF6",
            "gridcolor": "white",
            "gridwidth": 2,
            "linecolor": "white",
            "showbackground": true,
            "ticks": "",
            "zerolinecolor": "white"
           },
           "zaxis": {
            "backgroundcolor": "#E5ECF6",
            "gridcolor": "white",
            "gridwidth": 2,
            "linecolor": "white",
            "showbackground": true,
            "ticks": "",
            "zerolinecolor": "white"
           }
          },
          "shapedefaults": {
           "line": {
            "color": "#2a3f5f"
           }
          },
          "ternary": {
           "aaxis": {
            "gridcolor": "white",
            "linecolor": "white",
            "ticks": ""
           },
           "baxis": {
            "gridcolor": "white",
            "linecolor": "white",
            "ticks": ""
           },
           "bgcolor": "#E5ECF6",
           "caxis": {
            "gridcolor": "white",
            "linecolor": "white",
            "ticks": ""
           }
          },
          "title": {
           "x": 0.05
          },
          "xaxis": {
           "automargin": true,
           "gridcolor": "white",
           "linecolor": "white",
           "ticks": "",
           "title": {
            "standoff": 15
           },
           "zerolinecolor": "white",
           "zerolinewidth": 2
          },
          "yaxis": {
           "automargin": true,
           "gridcolor": "white",
           "linecolor": "white",
           "ticks": "",
           "title": {
            "standoff": 15
           },
           "zerolinecolor": "white",
           "zerolinewidth": 2
          }
         }
        }
       }
      },
      "text/html": [
       "<div>                            <div id=\"28fe18a7-ae2f-4747-a952-8ea5af2809b3\" class=\"plotly-graph-div\" style=\"height:525px; width:100%;\"></div>            <script type=\"text/javascript\">                require([\"plotly\"], function(Plotly) {                    window.PLOTLYENV=window.PLOTLYENV || {};                                    if (document.getElementById(\"28fe18a7-ae2f-4747-a952-8ea5af2809b3\")) {                    Plotly.newPlot(                        \"28fe18a7-ae2f-4747-a952-8ea5af2809b3\",                        [{\"hovertemplate\":\"messagecount=%{r}<br>day_of_date=%{theta}<extra></extra>\",\"legendgroup\":\"\",\"marker\":{\"color\":\"#636efa\",\"symbol\":\"circle\"},\"mode\":\"markers\",\"name\":\"\",\"r\":[61386,67423,61234,57530,63468,65672,63598],\"showlegend\":false,\"subplot\":\"polar\",\"theta\":[\"Friday\",\"Monday\",\"Saturday\",\"Sunday\",\"Thursday\",\"Tuesday\",\"Wednesday\"],\"type\":\"scatterpolar\"}],                        {\"template\":{\"data\":{\"histogram2dcontour\":[{\"type\":\"histogram2dcontour\",\"colorbar\":{\"outlinewidth\":0,\"ticks\":\"\"},\"colorscale\":[[0.0,\"#0d0887\"],[0.1111111111111111,\"#46039f\"],[0.2222222222222222,\"#7201a8\"],[0.3333333333333333,\"#9c179e\"],[0.4444444444444444,\"#bd3786\"],[0.5555555555555556,\"#d8576b\"],[0.6666666666666666,\"#ed7953\"],[0.7777777777777778,\"#fb9f3a\"],[0.8888888888888888,\"#fdca26\"],[1.0,\"#f0f921\"]]}],\"choropleth\":[{\"type\":\"choropleth\",\"colorbar\":{\"outlinewidth\":0,\"ticks\":\"\"}}],\"histogram2d\":[{\"type\":\"histogram2d\",\"colorbar\":{\"outlinewidth\":0,\"ticks\":\"\"},\"colorscale\":[[0.0,\"#0d0887\"],[0.1111111111111111,\"#46039f\"],[0.2222222222222222,\"#7201a8\"],[0.3333333333333333,\"#9c179e\"],[0.4444444444444444,\"#bd3786\"],[0.5555555555555556,\"#d8576b\"],[0.6666666666666666,\"#ed7953\"],[0.7777777777777778,\"#fb9f3a\"],[0.8888888888888888,\"#fdca26\"],[1.0,\"#f0f921\"]]}],\"heatmap\":[{\"type\":\"heatmap\",\"colorbar\":{\"outlinewidth\":0,\"ticks\":\"\"},\"colorscale\":[[0.0,\"#0d0887\"],[0.1111111111111111,\"#46039f\"],[0.2222222222222222,\"#7201a8\"],[0.3333333333333333,\"#9c179e\"],[0.4444444444444444,\"#bd3786\"],[0.5555555555555556,\"#d8576b\"],[0.6666666666666666,\"#ed7953\"],[0.7777777777777778,\"#fb9f3a\"],[0.8888888888888888,\"#fdca26\"],[1.0,\"#f0f921\"]]}],\"heatmapgl\":[{\"type\":\"heatmapgl\",\"colorbar\":{\"outlinewidth\":0,\"ticks\":\"\"},\"colorscale\":[[0.0,\"#0d0887\"],[0.1111111111111111,\"#46039f\"],[0.2222222222222222,\"#7201a8\"],[0.3333333333333333,\"#9c179e\"],[0.4444444444444444,\"#bd3786\"],[0.5555555555555556,\"#d8576b\"],[0.6666666666666666,\"#ed7953\"],[0.7777777777777778,\"#fb9f3a\"],[0.8888888888888888,\"#fdca26\"],[1.0,\"#f0f921\"]]}],\"contourcarpet\":[{\"type\":\"contourcarpet\",\"colorbar\":{\"outlinewidth\":0,\"ticks\":\"\"}}],\"contour\":[{\"type\":\"contour\",\"colorbar\":{\"outlinewidth\":0,\"ticks\":\"\"},\"colorscale\":[[0.0,\"#0d0887\"],[0.1111111111111111,\"#46039f\"],[0.2222222222222222,\"#7201a8\"],[0.3333333333333333,\"#9c179e\"],[0.4444444444444444,\"#bd3786\"],[0.5555555555555556,\"#d8576b\"],[0.6666666666666666,\"#ed7953\"],[0.7777777777777778,\"#fb9f3a\"],[0.8888888888888888,\"#fdca26\"],[1.0,\"#f0f921\"]]}],\"surface\":[{\"type\":\"surface\",\"colorbar\":{\"outlinewidth\":0,\"ticks\":\"\"},\"colorscale\":[[0.0,\"#0d0887\"],[0.1111111111111111,\"#46039f\"],[0.2222222222222222,\"#7201a8\"],[0.3333333333333333,\"#9c179e\"],[0.4444444444444444,\"#bd3786\"],[0.5555555555555556,\"#d8576b\"],[0.6666666666666666,\"#ed7953\"],[0.7777777777777778,\"#fb9f3a\"],[0.8888888888888888,\"#fdca26\"],[1.0,\"#f0f921\"]]}],\"mesh3d\":[{\"type\":\"mesh3d\",\"colorbar\":{\"outlinewidth\":0,\"ticks\":\"\"}}],\"scatter\":[{\"fillpattern\":{\"fillmode\":\"overlay\",\"size\":10,\"solidity\":0.2},\"type\":\"scatter\"}],\"parcoords\":[{\"type\":\"parcoords\",\"line\":{\"colorbar\":{\"outlinewidth\":0,\"ticks\":\"\"}}}],\"scatterpolargl\":[{\"type\":\"scatterpolargl\",\"marker\":{\"colorbar\":{\"outlinewidth\":0,\"ticks\":\"\"}}}],\"bar\":[{\"error_x\":{\"color\":\"#2a3f5f\"},\"error_y\":{\"color\":\"#2a3f5f\"},\"marker\":{\"line\":{\"color\":\"#E5ECF6\",\"width\":0.5},\"pattern\":{\"fillmode\":\"overlay\",\"size\":10,\"solidity\":0.2}},\"type\":\"bar\"}],\"scattergeo\":[{\"type\":\"scattergeo\",\"marker\":{\"colorbar\":{\"outlinewidth\":0,\"ticks\":\"\"}}}],\"scatterpolar\":[{\"type\":\"scatterpolar\",\"marker\":{\"colorbar\":{\"outlinewidth\":0,\"ticks\":\"\"}}}],\"histogram\":[{\"marker\":{\"pattern\":{\"fillmode\":\"overlay\",\"size\":10,\"solidity\":0.2}},\"type\":\"histogram\"}],\"scattergl\":[{\"type\":\"scattergl\",\"marker\":{\"colorbar\":{\"outlinewidth\":0,\"ticks\":\"\"}}}],\"scatter3d\":[{\"type\":\"scatter3d\",\"line\":{\"colorbar\":{\"outlinewidth\":0,\"ticks\":\"\"}},\"marker\":{\"colorbar\":{\"outlinewidth\":0,\"ticks\":\"\"}}}],\"scattermapbox\":[{\"type\":\"scattermapbox\",\"marker\":{\"colorbar\":{\"outlinewidth\":0,\"ticks\":\"\"}}}],\"scatterternary\":[{\"type\":\"scatterternary\",\"marker\":{\"colorbar\":{\"outlinewidth\":0,\"ticks\":\"\"}}}],\"scattercarpet\":[{\"type\":\"scattercarpet\",\"marker\":{\"colorbar\":{\"outlinewidth\":0,\"ticks\":\"\"}}}],\"carpet\":[{\"aaxis\":{\"endlinecolor\":\"#2a3f5f\",\"gridcolor\":\"white\",\"linecolor\":\"white\",\"minorgridcolor\":\"white\",\"startlinecolor\":\"#2a3f5f\"},\"baxis\":{\"endlinecolor\":\"#2a3f5f\",\"gridcolor\":\"white\",\"linecolor\":\"white\",\"minorgridcolor\":\"white\",\"startlinecolor\":\"#2a3f5f\"},\"type\":\"carpet\"}],\"table\":[{\"cells\":{\"fill\":{\"color\":\"#EBF0F8\"},\"line\":{\"color\":\"white\"}},\"header\":{\"fill\":{\"color\":\"#C8D4E3\"},\"line\":{\"color\":\"white\"}},\"type\":\"table\"}],\"barpolar\":[{\"marker\":{\"line\":{\"color\":\"#E5ECF6\",\"width\":0.5},\"pattern\":{\"fillmode\":\"overlay\",\"size\":10,\"solidity\":0.2}},\"type\":\"barpolar\"}],\"pie\":[{\"automargin\":true,\"type\":\"pie\"}]},\"layout\":{\"autotypenumbers\":\"strict\",\"colorway\":[\"#636efa\",\"#EF553B\",\"#00cc96\",\"#ab63fa\",\"#FFA15A\",\"#19d3f3\",\"#FF6692\",\"#B6E880\",\"#FF97FF\",\"#FECB52\"],\"font\":{\"color\":\"#2a3f5f\"},\"hovermode\":\"closest\",\"hoverlabel\":{\"align\":\"left\"},\"paper_bgcolor\":\"white\",\"plot_bgcolor\":\"#E5ECF6\",\"polar\":{\"bgcolor\":\"#E5ECF6\",\"angularaxis\":{\"gridcolor\":\"white\",\"linecolor\":\"white\",\"ticks\":\"\"},\"radialaxis\":{\"gridcolor\":\"white\",\"linecolor\":\"white\",\"ticks\":\"\"}},\"ternary\":{\"bgcolor\":\"#E5ECF6\",\"aaxis\":{\"gridcolor\":\"white\",\"linecolor\":\"white\",\"ticks\":\"\"},\"baxis\":{\"gridcolor\":\"white\",\"linecolor\":\"white\",\"ticks\":\"\"},\"caxis\":{\"gridcolor\":\"white\",\"linecolor\":\"white\",\"ticks\":\"\"}},\"coloraxis\":{\"colorbar\":{\"outlinewidth\":0,\"ticks\":\"\"}},\"colorscale\":{\"sequential\":[[0.0,\"#0d0887\"],[0.1111111111111111,\"#46039f\"],[0.2222222222222222,\"#7201a8\"],[0.3333333333333333,\"#9c179e\"],[0.4444444444444444,\"#bd3786\"],[0.5555555555555556,\"#d8576b\"],[0.6666666666666666,\"#ed7953\"],[0.7777777777777778,\"#fb9f3a\"],[0.8888888888888888,\"#fdca26\"],[1.0,\"#f0f921\"]],\"sequentialminus\":[[0.0,\"#0d0887\"],[0.1111111111111111,\"#46039f\"],[0.2222222222222222,\"#7201a8\"],[0.3333333333333333,\"#9c179e\"],[0.4444444444444444,\"#bd3786\"],[0.5555555555555556,\"#d8576b\"],[0.6666666666666666,\"#ed7953\"],[0.7777777777777778,\"#fb9f3a\"],[0.8888888888888888,\"#fdca26\"],[1.0,\"#f0f921\"]],\"diverging\":[[0,\"#8e0152\"],[0.1,\"#c51b7d\"],[0.2,\"#de77ae\"],[0.3,\"#f1b6da\"],[0.4,\"#fde0ef\"],[0.5,\"#f7f7f7\"],[0.6,\"#e6f5d0\"],[0.7,\"#b8e186\"],[0.8,\"#7fbc41\"],[0.9,\"#4d9221\"],[1,\"#276419\"]]},\"xaxis\":{\"gridcolor\":\"white\",\"linecolor\":\"white\",\"ticks\":\"\",\"title\":{\"standoff\":15},\"zerolinecolor\":\"white\",\"automargin\":true,\"zerolinewidth\":2},\"yaxis\":{\"gridcolor\":\"white\",\"linecolor\":\"white\",\"ticks\":\"\",\"title\":{\"standoff\":15},\"zerolinecolor\":\"white\",\"automargin\":true,\"zerolinewidth\":2},\"scene\":{\"xaxis\":{\"backgroundcolor\":\"#E5ECF6\",\"gridcolor\":\"white\",\"linecolor\":\"white\",\"showbackground\":true,\"ticks\":\"\",\"zerolinecolor\":\"white\",\"gridwidth\":2},\"yaxis\":{\"backgroundcolor\":\"#E5ECF6\",\"gridcolor\":\"white\",\"linecolor\":\"white\",\"showbackground\":true,\"ticks\":\"\",\"zerolinecolor\":\"white\",\"gridwidth\":2},\"zaxis\":{\"backgroundcolor\":\"#E5ECF6\",\"gridcolor\":\"white\",\"linecolor\":\"white\",\"showbackground\":true,\"ticks\":\"\",\"zerolinecolor\":\"white\",\"gridwidth\":2}},\"shapedefaults\":{\"line\":{\"color\":\"#2a3f5f\"}},\"annotationdefaults\":{\"arrowcolor\":\"#2a3f5f\",\"arrowhead\":0,\"arrowwidth\":1},\"geo\":{\"bgcolor\":\"white\",\"landcolor\":\"#E5ECF6\",\"subunitcolor\":\"white\",\"showland\":true,\"showlakes\":true,\"lakecolor\":\"white\"},\"title\":{\"x\":0.05},\"mapbox\":{\"style\":\"light\"}}},\"polar\":{\"domain\":{\"x\":[0.0,1.0],\"y\":[0.0,1.0]},\"angularaxis\":{\"direction\":\"clockwise\",\"rotation\":90},\"radialaxis\":{\"visible\":true}},\"legend\":{\"tracegroupgap\":0},\"margin\":{\"t\":60}},                        {\"responsive\": true}                    ).then(function(){\n",
       "                            \n",
       "var gd = document.getElementById('28fe18a7-ae2f-4747-a952-8ea5af2809b3');\n",
       "var x = new MutationObserver(function (mutations, observer) {{\n",
       "        var display = window.getComputedStyle(gd).display;\n",
       "        if (!display || display === 'none') {{\n",
       "            console.log([gd, 'removed!']);\n",
       "            Plotly.purge(gd);\n",
       "            observer.disconnect();\n",
       "        }}\n",
       "}});\n",
       "\n",
       "// Listen for the removal of the full notebook cells\n",
       "var notebookContainer = gd.closest('#notebook-container');\n",
       "if (notebookContainer) {{\n",
       "    x.observe(notebookContainer, {childList: true});\n",
       "}}\n",
       "\n",
       "// Listen for the clearing of the current output cell\n",
       "var outputEl = gd.closest('.output');\n",
       "if (outputEl) {{\n",
       "    x.observe(outputEl, {childList: true});\n",
       "}}\n",
       "\n",
       "                        })                };                });            </script>        </div>"
      ]
     },
     "metadata": {},
     "output_type": "display_data"
    }
   ],
   "source": [
    "fig = px.scatter_polar(day, r='messagecount', theta='day_of_date')\n",
    "fig.update_traces()\n",
    "fig.update_layout(polar=dict(radialaxis=dict(visible=True,)),)\n",
    "fig.show()"
   ]
  }
 ],
 "metadata": {
  "kernelspec": {
   "display_name": "Python 3 (ipykernel)",
   "language": "python",
   "name": "python3"
  },
  "language_info": {
   "codemirror_mode": {
    "name": "ipython",
    "version": 3
   },
   "file_extension": ".py",
   "mimetype": "text/x-python",
   "name": "python",
   "nbconvert_exporter": "python",
   "pygments_lexer": "ipython3",
   "version": "3.9.7"
  }
 },
 "nbformat": 4,
 "nbformat_minor": 5
}
